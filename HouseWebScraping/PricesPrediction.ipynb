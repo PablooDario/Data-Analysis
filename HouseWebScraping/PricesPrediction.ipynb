{
  "cells": [
    {
      "cell_type": "markdown",
      "metadata": {
        "id": "DVlf9gX33t1z"
      },
      "source": [
        "## Web Scraping and Linear Regresion to predict house prices\n",
        "\n",
        "##### In this program we'll do Web Scrapping to fetch all the data of a Website that offers houses in Mexico City, then we'll do data cleaning and finally we will do statistics calculus to obtain the linear regression and the prediction of the price of a house.\n",
        "\n",
        "**Caution** *The website may be changing with different offers and different houses, so if you run this program in the future will be different*"
      ]
    },
    {
      "cell_type": "markdown",
      "metadata": {
        "id": "f4Gg6-7zsXgP"
      },
      "source": [
        "#### Import the necessary libraries to make web scrapping and the linear regression"
      ]
    },
    {
      "cell_type": "code",
      "execution_count": 1,
      "metadata": {
        "id": "w_19muzYnEfO"
      },
      "outputs": [],
      "source": [
        "from bs4 import BeautifulSoup\n",
        "import requests\n",
        "import numpy as np\n",
        "import matplotlib.pyplot as plt"
      ]
    },
    {
      "cell_type": "markdown",
      "metadata": {
        "id": "5bNfXnagsyBh"
      },
      "source": [
        "- Do web scrappping by getting all the data from the website through the HTML\n",
        "- Print the HTMl to see the information"
      ]
    },
    {
      "cell_type": "code",
      "execution_count": 2,
      "metadata": {
        "colab": {
          "base_uri": "https://localhost:8080/"
        },
        "id": "an-OuSD4A2w8",
        "outputId": "54499bcd-a72c-4d44-e162-95b50aaf18ce"
      },
      "outputs": [],
      "source": [
        "direction=\"https://www.flat.mx/venta/propiedades-en-ciudad-de-mexico-alvaro-obregon\"\n",
        "website=requests.get(direction)\n",
        "soup=BeautifulSoup(website.content,\"html.parser\")\n",
        "#print(soup.prettify())"
      ]
    },
    {
      "cell_type": "markdown",
      "metadata": {
        "id": "08T_biN4udGN"
      },
      "source": [
        "#### Data Cleaning\n",
        "- Save all the elements that have the prices, this is done by obtaining only the elements that have a certain class."
      ]
    },
    {
      "cell_type": "code",
      "execution_count": 3,
      "metadata": {
        "colab": {
          "base_uri": "https://localhost:8080/"
        },
        "id": "C39jqDM6uB1v",
        "outputId": "e790aca1-3415-4eff-ee9e-d25b437b7cf4"
      },
      "outputs": [
        {
          "name": "stdout",
          "output_type": "stream",
          "text": [
            "[<p class=\"flex items-center gap-[0.625rem] truncate font-montserrat text-sm font-bold tabular-nums text-emerald md:text-base\"><span>$2,665,000</span></p>, <p class=\"flex items-center gap-[0.625rem] truncate font-montserrat text-sm font-bold tabular-nums text-emerald md:text-base\"><span>$2,750,000</span></p>, <p class=\"flex items-center gap-[0.625rem] truncate font-montserrat text-sm font-bold tabular-nums text-emerald md:text-base\"><span>$2,520,000</span><span class=\"truncate text-xs text-dark-grey-1 line-through\">$2,820,000</span><span class=\"flex items-center\"><button aria-controls=\"radix-:R6v3ib8t6:\" aria-expanded=\"false\" aria-haspopup=\"dialog\" class=\"c-hYUCgx focus:outline-none\" data-state=\"closed\" type=\"button\"><span class=\"flex items-baseline gap-[0.125rem] font-source text-xs font-bold text-coral md:text-xs\"><svg fill=\"#ff5a5a\" height=\"8\" viewbox=\"0 0 512 512\" width=\"8\" xmlns=\"http://www.w3.org/2000/svg\"><polygon points=\"64 144 256 368 448 144 64 144\"></polygon></svg> <!-- -->11<!-- -->%</span></button></span></p>, <p class=\"flex items-center gap-[0.625rem] truncate font-montserrat text-sm font-bold tabular-nums text-emerald md:text-base\"><span>$2,650,000</span></p>, <p class=\"flex items-center gap-[0.625rem] truncate font-montserrat text-sm font-bold tabular-nums text-emerald md:text-base\"><span>$4,900,000</span></p>, <p class=\"flex items-center gap-[0.625rem] truncate font-montserrat text-sm font-bold tabular-nums text-emerald md:text-base\"><span>$6,900,000</span></p>, <p class=\"flex items-center gap-[0.625rem] truncate font-montserrat text-sm font-bold tabular-nums text-emerald md:text-base\"><span>$2,345,000</span><span class=\"truncate text-xs text-dark-grey-1 line-through\">$2,395,000</span><span class=\"flex items-center\"><button aria-controls=\"radix-:R6v7ib8t6:\" aria-expanded=\"false\" aria-haspopup=\"dialog\" class=\"c-hYUCgx focus:outline-none\" data-state=\"closed\" type=\"button\"><span class=\"flex items-baseline gap-[0.125rem] font-source text-xs font-bold text-coral md:text-xs\"><svg fill=\"#ff5a5a\" height=\"8\" viewbox=\"0 0 512 512\" width=\"8\" xmlns=\"http://www.w3.org/2000/svg\"><polygon points=\"64 144 256 368 448 144 64 144\"></polygon></svg> <!-- -->3<!-- -->%</span></button></span></p>, <p class=\"flex items-center gap-[0.625rem] truncate font-montserrat text-sm font-bold tabular-nums text-emerald md:text-base\"><span>$2,750,000</span></p>, <p class=\"flex items-center gap-[0.625rem] truncate font-montserrat text-sm font-bold tabular-nums text-emerald md:text-base\"><span>$2,750,000</span></p>, <p class=\"flex items-center gap-[0.625rem] truncate font-montserrat text-sm font-bold tabular-nums text-emerald md:text-base\"><span>$2,750,000</span></p>, <p class=\"flex items-center gap-[0.625rem] truncate font-montserrat text-sm font-bold tabular-nums text-emerald md:text-base\"><span>$2,345,000</span><span class=\"truncate text-xs text-dark-grey-1 line-through\">$2,600,000</span><span class=\"flex items-center\"><button aria-controls=\"radix-:R6vbib8t6:\" aria-expanded=\"false\" aria-haspopup=\"dialog\" class=\"c-hYUCgx focus:outline-none\" data-state=\"closed\" type=\"button\"><span class=\"flex items-baseline gap-[0.125rem] font-source text-xs font-bold text-coral md:text-xs\"><svg fill=\"#ff5a5a\" height=\"8\" viewbox=\"0 0 512 512\" width=\"8\" xmlns=\"http://www.w3.org/2000/svg\"><polygon points=\"64 144 256 368 448 144 64 144\"></polygon></svg> <!-- -->10<!-- -->%</span></button></span></p>, <p class=\"flex items-center gap-[0.625rem] truncate font-montserrat text-sm font-bold tabular-nums text-emerald md:text-base\"><span>$4,300,000</span></p>, <p class=\"flex items-center gap-[0.625rem] truncate font-montserrat text-sm font-bold tabular-nums text-emerald md:text-base\"><span>$2,550,000</span></p>, <p class=\"flex items-center gap-[0.625rem] truncate font-montserrat text-sm font-bold tabular-nums text-emerald md:text-base\"><span>$2,350,000</span></p>, <p class=\"flex items-center gap-[0.625rem] truncate font-montserrat text-sm font-bold tabular-nums text-emerald md:text-base\"><span>$2,100,000</span></p>, <p class=\"flex items-center gap-[0.625rem] truncate font-montserrat text-sm font-bold tabular-nums text-emerald md:text-base\"><span>$1,650,000</span></p>, <p class=\"flex items-center gap-[0.625rem] truncate font-montserrat text-sm font-bold tabular-nums text-emerald md:text-base\"><span>$3,050,000</span></p>, <p class=\"flex items-center gap-[0.625rem] truncate font-montserrat text-sm font-bold tabular-nums text-emerald md:text-base\"><span>$2,650,000</span><span class=\"truncate text-xs text-dark-grey-1 line-through\">$3,000,000</span><span class=\"flex items-center\"><button aria-controls=\"radix-:R6viib8t6:\" aria-expanded=\"false\" aria-haspopup=\"dialog\" class=\"c-hYUCgx focus:outline-none\" data-state=\"closed\" type=\"button\"><span class=\"flex items-baseline gap-[0.125rem] font-source text-xs font-bold text-coral md:text-xs\"><svg fill=\"#ff5a5a\" height=\"8\" viewbox=\"0 0 512 512\" width=\"8\" xmlns=\"http://www.w3.org/2000/svg\"><polygon points=\"64 144 256 368 448 144 64 144\"></polygon></svg> <!-- -->12<!-- -->%</span></button></span></p>, <p class=\"flex items-center gap-[0.625rem] truncate font-montserrat text-sm font-bold tabular-nums text-emerald md:text-base\"><span>$2,650,000</span></p>, <p class=\"flex items-center gap-[0.625rem] truncate font-montserrat text-sm font-bold tabular-nums text-emerald md:text-base\"><span>$2,500,000</span></p>]\n"
          ]
        },
        {
          "data": {
            "text/plain": [
              "['2,665,000',\n",
              " '2,750,000',\n",
              " '2,520,000',\n",
              " '2,650,000',\n",
              " '4,900,000',\n",
              " '6,900,000',\n",
              " '2,345,000',\n",
              " '2,750,000',\n",
              " '2,750,000',\n",
              " '2,750,000',\n",
              " '2,345,000',\n",
              " '4,300,000',\n",
              " '2,550,000',\n",
              " '2,350,000',\n",
              " '2,100,000',\n",
              " '1,650,000',\n",
              " '3,050,000',\n",
              " '2,650,000',\n",
              " '2,650,000',\n",
              " '2,500,000']"
            ]
          },
          "execution_count": 3,
          "metadata": {},
          "output_type": "execute_result"
        }
      ],
      "source": [
        "data=soup.find_all('p',class_=\"flex items-center gap-[0.625rem] truncate font-montserrat text-sm font-bold tabular-nums text-emerald md:text-base\")\n",
        "print(data)\n",
        "\n",
        "prices=list()\n",
        "for x in data:\n",
        "    prices.append(x.text.split('$')[1])\n",
        "prices"
      ]
    },
    {
      "cell_type": "code",
      "execution_count": 4,
      "metadata": {
        "colab": {
          "base_uri": "https://localhost:8080/"
        },
        "id": "lRDuxnexuKR3",
        "outputId": "c6b4e220-13b7-4cec-d562-627dd46251e7"
      },
      "outputs": [
        {
          "data": {
            "text/plain": [
              "[2665000,\n",
              " 2750000,\n",
              " 2520000,\n",
              " 2650000,\n",
              " 4900000,\n",
              " 6900000,\n",
              " 2345000,\n",
              " 2750000,\n",
              " 2750000,\n",
              " 2750000,\n",
              " 2345000,\n",
              " 4300000,\n",
              " 2550000,\n",
              " 2350000,\n",
              " 2100000,\n",
              " 1650000,\n",
              " 3050000,\n",
              " 2650000,\n",
              " 2650000,\n",
              " 2500000]"
            ]
          },
          "execution_count": 4,
          "metadata": {},
          "output_type": "execute_result"
        }
      ],
      "source": [
        "# Convert the prices from string to int\n",
        "for x in range(len(prices)):\n",
        "  prices[x]= prices[x].replace(',', '')\n",
        "  prices[x]= prices[x].split(\" \")\n",
        "  prices[x]=prices[x][0]\n",
        "  prices[x] = int(prices[x])\n",
        "prices"
      ]
    },
    {
      "cell_type": "markdown",
      "metadata": {
        "id": "-k6Z6TYLvq5U"
      },
      "source": [
        "- Save all the elements that have other relevant information of the house sucha asthe size and the number of bathrooms, this is done by obtaining only the elements that have a certain class."
      ]
    },
    {
      "cell_type": "code",
      "execution_count": 5,
      "metadata": {
        "colab": {
          "base_uri": "https://localhost:8080/"
        },
        "id": "262a_NozuMpv",
        "outputId": "b2753222-11bf-4e49-db76-77c5e4f8516d"
      },
      "outputs": [
        {
          "name": "stdout",
          "output_type": "stream",
          "text": [
            "<span class=\"ml-2 truncate font-montserrat text-xs font-bold tabular-nums text-black\">86 m²</span>\n",
            "<span class=\"ml-2 truncate font-montserrat text-xs font-bold tabular-nums text-black\">2</span>\n",
            "<span class=\"ml-2 truncate font-montserrat text-xs font-bold tabular-nums text-black\">2</span>\n",
            "<span class=\"ml-2 truncate font-montserrat text-xs font-bold tabular-nums text-black\">1</span>\n",
            "<span class=\"ml-2 truncate font-montserrat text-xs font-bold tabular-nums text-black\">4.5</span>\n",
            "<span class=\"ml-2 truncate font-montserrat text-xs font-bold tabular-nums text-black\">113 m²</span>\n",
            "<span class=\"ml-2 truncate font-montserrat text-xs font-bold tabular-nums text-black\">2</span>\n",
            "<span class=\"ml-2 truncate font-montserrat text-xs font-bold tabular-nums text-black\">1</span>\n",
            "<span class=\"ml-2 truncate font-montserrat text-xs font-bold tabular-nums text-black\">3</span>\n",
            "<span class=\"ml-2 truncate font-montserrat text-xs font-bold tabular-nums text-black\">4.6</span>\n",
            "<span class=\"ml-2 truncate font-montserrat text-xs font-bold tabular-nums text-black\">76 m²</span>\n",
            "<span class=\"ml-2 truncate font-montserrat text-xs font-bold tabular-nums text-black\">2</span>\n",
            "<span class=\"ml-2 truncate font-montserrat text-xs font-bold tabular-nums text-black\">2</span>\n",
            "<span class=\"ml-2 truncate font-montserrat text-xs font-bold tabular-nums text-black\">1</span>\n",
            "<span class=\"ml-2 truncate font-montserrat text-xs font-bold tabular-nums text-black\">4.3</span>\n",
            "<span class=\"ml-2 truncate font-montserrat text-xs font-bold tabular-nums text-black\">82 m²</span>\n",
            "<span class=\"ml-2 truncate font-montserrat text-xs font-bold tabular-nums text-black\">3</span>\n",
            "<span class=\"ml-2 truncate font-montserrat text-xs font-bold tabular-nums text-black\">2</span>\n",
            "<span class=\"ml-2 truncate font-montserrat text-xs font-bold tabular-nums text-black\">1</span>\n",
            "<span class=\"ml-2 truncate font-montserrat text-xs font-bold tabular-nums text-black\">4.0</span>\n",
            "<span class=\"ml-2 truncate font-montserrat text-xs font-bold tabular-nums text-black\">335 m²</span>\n",
            "<span class=\"ml-2 truncate font-montserrat text-xs font-bold tabular-nums text-black\">2</span>\n",
            "<span class=\"ml-2 truncate font-montserrat text-xs font-bold tabular-nums text-black\">3</span>\n",
            "<span class=\"ml-2 truncate font-montserrat text-xs font-bold tabular-nums text-black\">5</span>\n",
            "<span class=\"ml-2 truncate font-montserrat text-xs font-bold tabular-nums text-black\">5.0</span>\n",
            "<span class=\"ml-2 truncate font-montserrat text-xs font-bold tabular-nums text-black\">511 m²</span>\n",
            "<span class=\"ml-2 truncate font-montserrat text-xs font-bold tabular-nums text-black\">2</span>\n",
            "<span class=\"ml-2 truncate font-montserrat text-xs font-bold tabular-nums text-black\">2</span>\n",
            "<span class=\"ml-2 truncate font-montserrat text-xs font-bold tabular-nums text-black\">2</span>\n",
            "<span class=\"ml-2 truncate font-montserrat text-xs font-bold tabular-nums text-black\">5.0</span>\n",
            "<span class=\"ml-2 truncate font-montserrat text-xs font-bold tabular-nums text-black\">74 m²</span>\n",
            "<span class=\"ml-2 truncate font-montserrat text-xs font-bold tabular-nums text-black\">3</span>\n",
            "<span class=\"ml-2 truncate font-montserrat text-xs font-bold tabular-nums text-black\">1</span>\n",
            "<span class=\"ml-2 truncate font-montserrat text-xs font-bold tabular-nums text-black\">1</span>\n",
            "<span class=\"ml-2 truncate font-montserrat text-xs font-bold tabular-nums text-black\">4.3</span>\n",
            "<span class=\"ml-2 truncate font-montserrat text-xs font-bold tabular-nums text-black\">71 m²</span>\n",
            "<span class=\"ml-2 truncate font-montserrat text-xs font-bold tabular-nums text-black\">2</span>\n",
            "<span class=\"ml-2 truncate font-montserrat text-xs font-bold tabular-nums text-black\">2</span>\n",
            "<span class=\"ml-2 truncate font-montserrat text-xs font-bold tabular-nums text-black\">1</span>\n",
            "<span class=\"ml-2 truncate font-montserrat text-xs font-bold tabular-nums text-black\">4.8</span>\n",
            "<span class=\"ml-2 truncate font-montserrat text-xs font-bold tabular-nums text-black\">73 m²</span>\n",
            "<span class=\"ml-2 truncate font-montserrat text-xs font-bold tabular-nums text-black\">2</span>\n",
            "<span class=\"ml-2 truncate font-montserrat text-xs font-bold tabular-nums text-black\">2</span>\n",
            "<span class=\"ml-2 truncate font-montserrat text-xs font-bold tabular-nums text-black\">1</span>\n",
            "<span class=\"ml-2 truncate font-montserrat text-xs font-bold tabular-nums text-black\">4.8</span>\n",
            "<span class=\"ml-2 truncate font-montserrat text-xs font-bold tabular-nums text-black\">70 m²</span>\n",
            "<span class=\"ml-2 truncate font-montserrat text-xs font-bold tabular-nums text-black\">2</span>\n",
            "<span class=\"ml-2 truncate font-montserrat text-xs font-bold tabular-nums text-black\">2</span>\n",
            "<span class=\"ml-2 truncate font-montserrat text-xs font-bold tabular-nums text-black\">1</span>\n",
            "<span class=\"ml-2 truncate font-montserrat text-xs font-bold tabular-nums text-black\">4.8</span>\n",
            "<span class=\"ml-2 truncate font-montserrat text-xs font-bold tabular-nums text-black\">81 m²</span>\n",
            "<span class=\"ml-2 truncate font-montserrat text-xs font-bold tabular-nums text-black\">2</span>\n",
            "<span class=\"ml-2 truncate font-montserrat text-xs font-bold tabular-nums text-black\">1</span>\n",
            "<span class=\"ml-2 truncate font-montserrat text-xs font-bold tabular-nums text-black\">0</span>\n",
            "<span class=\"ml-2 truncate font-montserrat text-xs font-bold tabular-nums text-black\">3.6</span>\n",
            "<span class=\"ml-2 truncate font-montserrat text-xs font-bold tabular-nums text-black\">125 m²</span>\n",
            "<span class=\"ml-2 truncate font-montserrat text-xs font-bold tabular-nums text-black\">3</span>\n",
            "<span class=\"ml-2 truncate font-montserrat text-xs font-bold tabular-nums text-black\">2</span>\n",
            "<span class=\"ml-2 truncate font-montserrat text-xs font-bold tabular-nums text-black\">2</span>\n",
            "<span class=\"ml-2 truncate font-montserrat text-xs font-bold tabular-nums text-black\">4.8</span>\n",
            "<span class=\"ml-2 truncate font-montserrat text-xs font-bold tabular-nums text-black\">60 m²</span>\n",
            "<span class=\"ml-2 truncate font-montserrat text-xs font-bold tabular-nums text-black\">1</span>\n",
            "<span class=\"ml-2 truncate font-montserrat text-xs font-bold tabular-nums text-black\">1</span>\n",
            "<span class=\"ml-2 truncate font-montserrat text-xs font-bold tabular-nums text-black\">2</span>\n",
            "<span class=\"ml-2 truncate font-montserrat text-xs font-bold tabular-nums text-black\">4.1</span>\n",
            "<span class=\"ml-2 truncate font-montserrat text-xs font-bold tabular-nums text-black\">55 m²</span>\n",
            "<span class=\"ml-2 truncate font-montserrat text-xs font-bold tabular-nums text-black\">2</span>\n",
            "<span class=\"ml-2 truncate font-montserrat text-xs font-bold tabular-nums text-black\">1</span>\n",
            "<span class=\"ml-2 truncate font-montserrat text-xs font-bold tabular-nums text-black\">1</span>\n",
            "<span class=\"ml-2 truncate font-montserrat text-xs font-bold tabular-nums text-black\">4.0</span>\n",
            "<span class=\"ml-2 truncate font-montserrat text-xs font-bold tabular-nums text-black\">60 m²</span>\n",
            "<span class=\"ml-2 truncate font-montserrat text-xs font-bold tabular-nums text-black\">2</span>\n",
            "<span class=\"ml-2 truncate font-montserrat text-xs font-bold tabular-nums text-black\">1</span>\n",
            "<span class=\"ml-2 truncate font-montserrat text-xs font-bold tabular-nums text-black\">1</span>\n",
            "<span class=\"ml-2 truncate font-montserrat text-xs font-bold tabular-nums text-black\">4.1</span>\n",
            "<span class=\"ml-2 truncate font-montserrat text-xs font-bold tabular-nums text-black\">55 m²</span>\n",
            "<span class=\"ml-2 truncate font-montserrat text-xs font-bold tabular-nums text-black\">2</span>\n",
            "<span class=\"ml-2 truncate font-montserrat text-xs font-bold tabular-nums text-black\">1</span>\n",
            "<span class=\"ml-2 truncate font-montserrat text-xs font-bold tabular-nums text-black\">0</span>\n",
            "<span class=\"ml-2 truncate font-montserrat text-xs font-bold tabular-nums text-black\">4.1</span>\n",
            "<span class=\"ml-2 truncate font-montserrat text-xs font-bold tabular-nums text-black\">71 m²</span>\n",
            "<span class=\"ml-2 truncate font-montserrat text-xs font-bold tabular-nums text-black\">2</span>\n",
            "<span class=\"ml-2 truncate font-montserrat text-xs font-bold tabular-nums text-black\">2</span>\n",
            "<span class=\"ml-2 truncate font-montserrat text-xs font-bold tabular-nums text-black\">2</span>\n",
            "<span class=\"ml-2 truncate font-montserrat text-xs font-bold tabular-nums text-black\">4.7</span>\n",
            "<span class=\"ml-2 truncate font-montserrat text-xs font-bold tabular-nums text-black\">55 m²</span>\n",
            "<span class=\"ml-2 truncate font-montserrat text-xs font-bold tabular-nums text-black\">1</span>\n",
            "<span class=\"ml-2 truncate font-montserrat text-xs font-bold tabular-nums text-black\">1</span>\n",
            "<span class=\"ml-2 truncate font-montserrat text-xs font-bold tabular-nums text-black\">1</span>\n",
            "<span class=\"ml-2 truncate font-montserrat text-xs font-bold tabular-nums text-black\">4.6</span>\n",
            "<span class=\"ml-2 truncate font-montserrat text-xs font-bold tabular-nums text-black\">70 m²</span>\n",
            "<span class=\"ml-2 truncate font-montserrat text-xs font-bold tabular-nums text-black\">3</span>\n",
            "<span class=\"ml-2 truncate font-montserrat text-xs font-bold tabular-nums text-black\">2</span>\n",
            "<span class=\"ml-2 truncate font-montserrat text-xs font-bold tabular-nums text-black\">1</span>\n",
            "<span class=\"ml-2 truncate font-montserrat text-xs font-bold tabular-nums text-black\">3.9</span>\n",
            "<span class=\"ml-2 truncate font-montserrat text-xs font-bold tabular-nums text-black\">65 m²</span>\n",
            "<span class=\"ml-2 truncate font-montserrat text-xs font-bold tabular-nums text-black\">3</span>\n",
            "<span class=\"ml-2 truncate font-montserrat text-xs font-bold tabular-nums text-black\">2</span>\n",
            "<span class=\"ml-2 truncate font-montserrat text-xs font-bold tabular-nums text-black\">1</span>\n",
            "<span class=\"ml-2 truncate font-montserrat text-xs font-bold tabular-nums text-black\">3.7</span>\n"
          ]
        }
      ],
      "source": [
        "data=soup.find_all ('span', class_=\"ml-2 truncate font-montserrat text-xs font-bold tabular-nums text-black\")\n",
        "#size, bathroom, rooms and garage have the same class\n",
        "for d in data:\n",
        "  print(d)"
      ]
    },
    {
      "cell_type": "markdown",
      "metadata": {
        "id": "NVpyd6x8wEOG"
      },
      "source": [
        "- Since  the sizes, bathrooms, rooms and garage have the same class we can do a data cleaning with a cycle and separate them in different lists"
      ]
    },
    {
      "cell_type": "code",
      "execution_count": 6,
      "metadata": {
        "id": "LKlJHmhPuXrw"
      },
      "outputs": [],
      "source": [
        "sizes, rooms, bathrooms, garage = [], [], [], []\n",
        "i=-1\n",
        "for d in data:\n",
        "  i+=1\n",
        "  if('.' in d.text):\n",
        "    i=-1\n",
        "  if('m²' in d.text):\n",
        "    sizes.append(int(d.text.split()[0]))\n",
        "  elif(i==1):\n",
        "    rooms.append(int(d.text))\n",
        "  elif(i==2):\n",
        "    bathrooms.append(int(d.text))\n",
        "  elif(i==3):\n",
        "    garage.append(int(d.text))"
      ]
    },
    {
      "cell_type": "code",
      "execution_count": 7,
      "metadata": {
        "colab": {
          "base_uri": "https://localhost:8080/"
        },
        "id": "rWZa-TNxvnOr",
        "outputId": "6e45bd03-71b9-4fee-f3e5-c6683f6f3391"
      },
      "outputs": [
        {
          "name": "stdout",
          "output_type": "stream",
          "text": [
            "sizes --->  [86, 113, 76, 82, 335, 511, 74, 71, 73, 70, 81, 125, 60, 55, 60, 55, 71, 55, 70, 65]\n",
            "rooms --->  [2, 2, 2, 3, 2, 2, 3, 2, 2, 2, 2, 3, 1, 2, 2, 2, 2, 1, 3, 3]\n",
            "bathrooms --->  [2, 1, 2, 2, 3, 2, 1, 2, 2, 2, 1, 2, 1, 1, 1, 1, 2, 1, 2, 2]\n",
            "garage --->  [1, 3, 1, 1, 5, 2, 1, 1, 1, 1, 0, 2, 2, 1, 1, 0, 2, 1, 1, 1]\n"
          ]
        }
      ],
      "source": [
        "print('sizes ---> ', sizes)\n",
        "print('rooms ---> ', rooms)\n",
        "print('bathrooms ---> ', bathrooms)\n",
        "print('garage ---> ', garage)"
      ]
    },
    {
      "cell_type": "markdown",
      "metadata": {
        "id": "BKxN0firw-Ud"
      },
      "source": [
        "- Check that all the lists have the same size so we do a correct data cleaning"
      ]
    },
    {
      "cell_type": "code",
      "execution_count": 8,
      "metadata": {
        "colab": {
          "base_uri": "https://localhost:8080/"
        },
        "id": "1QhD_hMfwCv3",
        "outputId": "2d3ca04d-93bc-49a3-acfd-1b217b925d42"
      },
      "outputs": [
        {
          "name": "stdout",
          "output_type": "stream",
          "text": [
            "20\n",
            "20\n",
            "20\n",
            "20\n",
            "20\n"
          ]
        }
      ],
      "source": [
        "print(len(prices))\n",
        "print(len(sizes))\n",
        "print(len(bathrooms))\n",
        "print(len(rooms))\n",
        "print(len(garage))"
      ]
    },
    {
      "cell_type": "markdown",
      "metadata": {
        "id": "xqibmqsqyDKC"
      },
      "source": [
        "#### Correlation Coeficient\n",
        "- Get the correlation coeficients of the prices with all the other aspect of the houses to know which one has a better correlation with the prices and make the best linear regression"
      ]
    },
    {
      "cell_type": "code",
      "execution_count": 9,
      "metadata": {
        "colab": {
          "base_uri": "https://localhost:8080/"
        },
        "id": "SkOx7SzawGK4",
        "outputId": "26789a0e-1c4a-4e22-8563-361f59eae617"
      },
      "outputs": [
        {
          "name": "stdout",
          "output_type": "stream",
          "text": [
            "Correlation Coeficients\n",
            "\n",
            "Bathrooms and Prices: 0.527228222749548 \n",
            "Sizes and Prices 0.9430188876600533\n",
            "Rooms and Prices 0.0289432236089028 \n",
            "Garage and Prices 0.587747566188347\n"
          ]
        }
      ],
      "source": [
        "print(\"Correlation Coeficients\\n\")\n",
        "print('Bathrooms and Prices:',np.corrcoef(bathrooms, prices)[0][1], \"\\nSizes and Prices\", np.corrcoef(sizes, prices)[0][1],)\n",
        "print('Rooms and Prices',np.corrcoef(rooms, prices)[0][1], '\\nGarage and Prices', np.corrcoef(garage, prices)[0][1])"
      ]
    },
    {
      "cell_type": "markdown",
      "metadata": {
        "id": "TJTify8O0Y6h"
      },
      "source": [
        "#### Linear Regression\n",
        "- We can see that in this example the one with the best correlation coeficient is the one of he sizes and prices with a value of **0.94** out of 1, which is pretty good; so we will use the size to predict the price\n",
        "- Make a linear regression without libraries to have a better understanding of this one"
      ]
    },
    {
      "cell_type": "code",
      "execution_count": 10,
      "metadata": {
        "colab": {
          "base_uri": "https://localhost:8080/"
        },
        "id": "lwa6v95iwIPa",
        "outputId": "be60a926-0cd4-4733-af7e-04d2e65dc324"
      },
      "outputs": [
        {
          "name": "stdout",
          "output_type": "stream",
          "text": [
            "Intercept:  1886639.0227684062 Pending:  9777.06560540762\n"
          ]
        }
      ],
      "source": [
        "sx, sy, sx2, sxy = 0, 0, 0, 0\n",
        "n=len(prices)\n",
        "\n",
        "for i in range(n):\n",
        "  sx+=sizes[i]\n",
        "  sy+=prices[i]\n",
        "  sx2+=sizes[i]**2\n",
        "  sxy+=sizes[i]*prices[i]\n",
        "\n",
        "b1=((n*sxy)-(sx*sy)) / ((n*sx2) - (sx**2))\n",
        "b0=(sy-(b1*sx))/n\n",
        "\n",
        "print('Intercept: ', b0, 'Pending: ',b1)"
      ]
    },
    {
      "cell_type": "markdown",
      "metadata": {
        "id": "DrVRV1LV1ZhD"
      },
      "source": [
        "- Create the Linear Regression"
      ]
    },
    {
      "cell_type": "code",
      "execution_count": 11,
      "metadata": {
        "id": "H8OWimmZwKqf"
      },
      "outputs": [],
      "source": [
        "Y=[]\n",
        "for i in range(n):\n",
        "  Y.append(b1*sizes[i]+b0)"
      ]
    },
    {
      "cell_type": "markdown",
      "metadata": {
        "id": "AbVdCpIY1bu_"
      },
      "source": [
        "#### Plot the house sizes with their prices and the Linear Regression"
      ]
    },
    {
      "cell_type": "code",
      "execution_count": 12,
      "metadata": {
        "colab": {
          "base_uri": "https://localhost:8080/",
          "height": 472
        },
        "id": "7qGBW5FpwMwY",
        "outputId": "e8652542-2250-440e-bdea-e93c2948a04b"
      },
      "outputs": [
        {
          "data": {
            "image/png": "[encoded data removed]",
            "text/plain": [
              "<Figure size 640x480 with 1 Axes>"
            ]
          },
          "metadata": {},
          "output_type": "display_data"
        }
      ],
      "source": [
        "plt.xlabel('Sizes in m²')\n",
        "plt.ylabel('Prices in tens of millions')\n",
        "plt.title('Linear Regression')\n",
        "plt.scatter(sizes, prices)\n",
        "plt.plot(sizes, Y, color='r')\n",
        "plt.show()"
      ]
    },
    {
      "cell_type": "markdown",
      "metadata": {
        "id": "toTM9sdb13t0"
      },
      "source": [
        "#### Make the Prediction of a house of 150 square meters in Mexico City"
      ]
    },
    {
      "cell_type": "code",
      "execution_count": 13,
      "metadata": {
        "colab": {
          "base_uri": "https://localhost:8080/"
        },
        "id": "L-LTuy5YGIKB",
        "outputId": "8f886481-9234-4c26-dda7-c7ca78b18959"
      },
      "outputs": [
        {
          "name": "stdout",
          "output_type": "stream",
          "text": [
            "The estimated value of a property of 150 square meters is about:$ 4330905.42 mexican pesos\n"
          ]
        }
      ],
      "source": [
        "x=250\n",
        "print(\"The estimated value of a property of 150 square meters is about:$\", round((b1*x)+b0,2), \"mexican pesos\")"
      ]
    },
    {
      "cell_type": "markdown",
      "metadata": {
        "id": "buyuxy7m2Vr9"
      },
      "source": [
        "#### As we could see this Web Scrapping combined with a linear regression to make a price prediction is very helpful to start doing data analysis."
      ]
    }
  ],
  "metadata": {
    "colab": {
      "provenance": []
    },
    "kernelspec": {
      "display_name": "Python 3",
      "name": "python3"
    },
    "language_info": {
      "codemirror_mode": {
        "name": "ipython",
        "version": 3
      },
      "file_extension": ".py",
      "mimetype": "text/x-python",
      "name": "python",
      "nbconvert_exporter": "python",
      "pygments_lexer": "ipython3",
      "version": "3.10.6"
    }
  },
  "nbformat": 4,
  "nbformat_minor": 0
}
