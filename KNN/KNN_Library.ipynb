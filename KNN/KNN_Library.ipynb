{
  "nbformat": 4,
  "nbformat_minor": 0,
  "metadata": {
    "colab": {
      "provenance": []
    },
    "kernelspec": {
      "name": "python3",
      "display_name": "Python 3"
    },
    "language_info": {
      "name": "python"
    }
  },
  "cells": [
    {
      "cell_type": "markdown",
      "source": [
        "### Import the libraries we will use\n",
        "- SKlearn for the KNN algorithm\n",
        "- Pandas to manage the data\n",
        "- Matplotlib to visualize the data"
      ],
      "metadata": {
        "id": "V3Tb7zS-ASgW"
      }
    },
    {
      "cell_type": "code",
      "execution_count": null,
      "metadata": {
        "id": "5l-kyr1GmO_e"
      },
      "outputs": [],
      "source": [
        "from sklearn.neighbors import KNeighborsClassifier\n",
        "import pandas as pd\n",
        "import matplotlib.pyplot as plt"
      ]
    },
    {
      "cell_type": "markdown",
      "source": [
        "### Read the first CSV file\n",
        "The dataset we'll use have 3 classes for the data.\n",
        "\n",
        "The first CSV file is the one that have the data with the Species, that is the training set."
      ],
      "metadata": {
        "id": "gGZYt_zMAPUQ"
      }
    },
    {
      "cell_type": "code",
      "source": [
        "data=pd.read_csv(\"KNN2.csv\")\n",
        "print(data.shape)\n",
        "data.head()"
      ],
      "metadata": {
        "colab": {
          "base_uri": "https://localhost:8080/",
          "height": 224
        },
        "id": "dOkuMglyn-z0",
        "outputId": "e9b4ba1a-ec5b-4058-caa1-23f3d4e9e4e6"
      },
      "execution_count": null,
      "outputs": [
        {
          "output_type": "stream",
          "name": "stdout",
          "text": [
            "(143, 5)\n"
          ]
        },
        {
          "output_type": "execute_result",
          "data": {
            "text/plain": [
              "   CARACTERISTICA 1  CARACTERISTICA 2  CARACTERISTICA 3  CARACTERISTICA 4  \\\n",
              "0               4.9               3.0               1.4               0.2   \n",
              "1               4.7               3.2               1.3               0.2   \n",
              "2               4.6               3.1               1.5               0.2   \n",
              "3               5.0               3.6               1.4               0.3   \n",
              "4               5.4               3.9               1.7               0.4   \n",
              "\n",
              "    ESPECIES  \n",
              "0  ESPECIE 1  \n",
              "1  ESPECIE 1  \n",
              "2  ESPECIE 1  \n",
              "3  ESPECIE 1  \n",
              "4  ESPECIE 1  "
            ],
            "text/html": [
              "\n",
              "  <div id=\"df-8d38afb9-b92e-4e86-9e88-aff0fae82453\">\n",
              "    <div class=\"colab-df-container\">\n",
              "      <div>\n",
              "<style scoped>\n",
              "    .dataframe tbody tr th:only-of-type {\n",
              "        vertical-align: middle;\n",
              "    }\n",
              "\n",
              "    .dataframe tbody tr th {\n",
              "        vertical-align: top;\n",
              "    }\n",
              "\n",
              "    .dataframe thead th {\n",
              "        text-align: right;\n",
              "    }\n",
              "</style>\n",
              "<table border=\"1\" class=\"dataframe\">\n",
              "  <thead>\n",
              "    <tr style=\"text-align: right;\">\n",
              "      <th></th>\n",
              "      <th>CARACTERISTICA 1</th>\n",
              "      <th>CARACTERISTICA 2</th>\n",
              "      <th>CARACTERISTICA 3</th>\n",
              "      <th>CARACTERISTICA 4</th>\n",
              "      <th>ESPECIES</th>\n",
              "    </tr>\n",
              "  </thead>\n",
              "  <tbody>\n",
              "    <tr>\n",
              "      <th>0</th>\n",
              "      <td>4.9</td>\n",
              "      <td>3.0</td>\n",
              "      <td>1.4</td>\n",
              "      <td>0.2</td>\n",
              "      <td>ESPECIE 1</td>\n",
              "    </tr>\n",
              "    <tr>\n",
              "      <th>1</th>\n",
              "      <td>4.7</td>\n",
              "      <td>3.2</td>\n",
              "      <td>1.3</td>\n",
              "      <td>0.2</td>\n",
              "      <td>ESPECIE 1</td>\n",
              "    </tr>\n",
              "    <tr>\n",
              "      <th>2</th>\n",
              "      <td>4.6</td>\n",
              "      <td>3.1</td>\n",
              "      <td>1.5</td>\n",
              "      <td>0.2</td>\n",
              "      <td>ESPECIE 1</td>\n",
              "    </tr>\n",
              "    <tr>\n",
              "      <th>3</th>\n",
              "      <td>5.0</td>\n",
              "      <td>3.6</td>\n",
              "      <td>1.4</td>\n",
              "      <td>0.3</td>\n",
              "      <td>ESPECIE 1</td>\n",
              "    </tr>\n",
              "    <tr>\n",
              "      <th>4</th>\n",
              "      <td>5.4</td>\n",
              "      <td>3.9</td>\n",
              "      <td>1.7</td>\n",
              "      <td>0.4</td>\n",
              "      <td>ESPECIE 1</td>\n",
              "    </tr>\n",
              "  </tbody>\n",
              "</table>\n",
              "</div>\n",
              "      <button class=\"colab-df-convert\" onclick=\"convertToInteractive('df-8d38afb9-b92e-4e86-9e88-aff0fae82453')\"\n",
              "              title=\"Convert this dataframe to an interactive table.\"\n",
              "              style=\"display:none;\">\n",
              "        \n",
              "  <svg xmlns=\"http://www.w3.org/2000/svg\" height=\"24px\"viewBox=\"0 0 24 24\"\n",
              "       width=\"24px\">\n",
              "    <path d=\"M0 0h24v24H0V0z\" fill=\"none\"/>\n",
              "    <path d=\"M18.56 5.44l.94 2.06.94-2.06 2.06-.94-2.06-.94-.94-2.06-.94 2.06-2.06.94zm-11 1L8.5 8.5l.94-2.06 2.06-.94-2.06-.94L8.5 2.5l-.94 2.06-2.06.94zm10 10l.94 2.06.94-2.06 2.06-.94-2.06-.94-.94-2.06-.94 2.06-2.06.94z\"/><path d=\"M17.41 7.96l-1.37-1.37c-.4-.4-.92-.59-1.43-.59-.52 0-1.04.2-1.43.59L10.3 9.45l-7.72 7.72c-.78.78-.78 2.05 0 2.83L4 21.41c.39.39.9.59 1.41.59.51 0 1.02-.2 1.41-.59l7.78-7.78 2.81-2.81c.8-.78.8-2.07 0-2.86zM5.41 20L4 18.59l7.72-7.72 1.47 1.35L5.41 20z\"/>\n",
              "  </svg>\n",
              "      </button>\n",
              "      \n",
              "  <style>\n",
              "    .colab-df-container {\n",
              "      display:flex;\n",
              "      flex-wrap:wrap;\n",
              "      gap: 12px;\n",
              "    }\n",
              "\n",
              "    .colab-df-convert {\n",
              "      background-color: #E8F0FE;\n",
              "      border: none;\n",
              "      border-radius: 50%;\n",
              "      cursor: pointer;\n",
              "      display: none;\n",
              "      fill: #1967D2;\n",
              "      height: 32px;\n",
              "      padding: 0 0 0 0;\n",
              "      width: 32px;\n",
              "    }\n",
              "\n",
              "    .colab-df-convert:hover {\n",
              "      background-color: #E2EBFA;\n",
              "      box-shadow: 0px 1px 2px rgba(60, 64, 67, 0.3), 0px 1px 3px 1px rgba(60, 64, 67, 0.15);\n",
              "      fill: #174EA6;\n",
              "    }\n",
              "\n",
              "    [theme=dark] .colab-df-convert {\n",
              "      background-color: #3B4455;\n",
              "      fill: #D2E3FC;\n",
              "    }\n",
              "\n",
              "    [theme=dark] .colab-df-convert:hover {\n",
              "      background-color: #434B5C;\n",
              "      box-shadow: 0px 1px 3px 1px rgba(0, 0, 0, 0.15);\n",
              "      filter: drop-shadow(0px 1px 2px rgba(0, 0, 0, 0.3));\n",
              "      fill: #FFFFFF;\n",
              "    }\n",
              "  </style>\n",
              "\n",
              "      <script>\n",
              "        const buttonEl =\n",
              "          document.querySelector('#df-8d38afb9-b92e-4e86-9e88-aff0fae82453 button.colab-df-convert');\n",
              "        buttonEl.style.display =\n",
              "          google.colab.kernel.accessAllowed ? 'block' : 'none';\n",
              "\n",
              "        async function convertToInteractive(key) {\n",
              "          const element = document.querySelector('#df-8d38afb9-b92e-4e86-9e88-aff0fae82453');\n",
              "          const dataTable =\n",
              "            await google.colab.kernel.invokeFunction('convertToInteractive',\n",
              "                                                     [key], {});\n",
              "          if (!dataTable) return;\n",
              "\n",
              "          const docLinkHtml = 'Like what you see? Visit the ' +\n",
              "            '<a target=\"_blank\" href=https://colab.research.google.com/notebooks/data_table.ipynb>data table notebook</a>'\n",
              "            + ' to learn more about interactive tables.';\n",
              "          element.innerHTML = '';\n",
              "          dataTable['output_type'] = 'display_data';\n",
              "          await google.colab.output.renderOutput(dataTable, element);\n",
              "          const docLink = document.createElement('div');\n",
              "          docLink.innerHTML = docLinkHtml;\n",
              "          element.appendChild(docLink);\n",
              "        }\n",
              "      </script>\n",
              "    </div>\n",
              "  </div>\n",
              "  "
            ]
          },
          "metadata": {},
          "execution_count": 55
        }
      ]
    },
    {
      "cell_type": "markdown",
      "source": [
        "### Divide the dependent and independent values\n",
        "We have to separate the training set in 2, to indepents values and the dependent (the classes). This will be of numpy array type."
      ],
      "metadata": {
        "id": "1ADZYuBGGR6C"
      }
    },
    {
      "cell_type": "code",
      "source": [
        "x_train=data.iloc[:,:-1].values\n",
        "y_train=data.iloc[:, 4]\n",
        "y_train"
      ],
      "metadata": {
        "colab": {
          "base_uri": "https://localhost:8080/"
        },
        "id": "V2WsmD0dnP-0",
        "outputId": "d13c1415-6b3e-4d66-83ae-408235af4dc8"
      },
      "execution_count": null,
      "outputs": [
        {
          "output_type": "execute_result",
          "data": {
            "text/plain": [
              "0      ESPECIE 1\n",
              "1      ESPECIE 1\n",
              "2      ESPECIE 1\n",
              "3      ESPECIE 1\n",
              "4      ESPECIE 1\n",
              "         ...    \n",
              "138    ESPECIE 3\n",
              "139    ESPECIE 3\n",
              "140    ESPECIE 3\n",
              "141    ESPECIE 3\n",
              "142    ESPECIE 3\n",
              "Name: ESPECIES, Length: 143, dtype: object"
            ]
          },
          "metadata": {},
          "execution_count": 14
        }
      ]
    },
    {
      "cell_type": "markdown",
      "source": [
        "### Read the second CSV file\n",
        "This file is the one that have the test dataset, that is the data we are going to use to give them their classifiation."
      ],
      "metadata": {
        "id": "S-citbbJG0Xy"
      }
    },
    {
      "cell_type": "code",
      "source": [
        "x_test=pd.read_csv(\"KNN.txt\", header=None)\n",
        "x_test"
      ],
      "metadata": {
        "colab": {
          "base_uri": "https://localhost:8080/",
          "height": 175
        },
        "id": "vVUJmlxopWWk",
        "outputId": "33eb9ca0-f042-48e6-dad8-e29b22c509b0"
      },
      "execution_count": null,
      "outputs": [
        {
          "output_type": "execute_result",
          "data": {
            "text/plain": [
              "     0    1    2    3\n",
              "0  5.1  3.5  1.4  0.2\n",
              "1  6.4  3.2  4.5  1.5\n",
              "2  6.5  2.8  4.6  1.5\n",
              "3  6.3  2.9  5.6  1.8"
            ],
            "text/html": [
              "\n",
              "  <div id=\"df-3da1bd50-c107-4af5-ab30-88c7d686ef3c\">\n",
              "    <div class=\"colab-df-container\">\n",
              "      <div>\n",
              "<style scoped>\n",
              "    .dataframe tbody tr th:only-of-type {\n",
              "        vertical-align: middle;\n",
              "    }\n",
              "\n",
              "    .dataframe tbody tr th {\n",
              "        vertical-align: top;\n",
              "    }\n",
              "\n",
              "    .dataframe thead th {\n",
              "        text-align: right;\n",
              "    }\n",
              "</style>\n",
              "<table border=\"1\" class=\"dataframe\">\n",
              "  <thead>\n",
              "    <tr style=\"text-align: right;\">\n",
              "      <th></th>\n",
              "      <th>0</th>\n",
              "      <th>1</th>\n",
              "      <th>2</th>\n",
              "      <th>3</th>\n",
              "    </tr>\n",
              "  </thead>\n",
              "  <tbody>\n",
              "    <tr>\n",
              "      <th>0</th>\n",
              "      <td>5.1</td>\n",
              "      <td>3.5</td>\n",
              "      <td>1.4</td>\n",
              "      <td>0.2</td>\n",
              "    </tr>\n",
              "    <tr>\n",
              "      <th>1</th>\n",
              "      <td>6.4</td>\n",
              "      <td>3.2</td>\n",
              "      <td>4.5</td>\n",
              "      <td>1.5</td>\n",
              "    </tr>\n",
              "    <tr>\n",
              "      <th>2</th>\n",
              "      <td>6.5</td>\n",
              "      <td>2.8</td>\n",
              "      <td>4.6</td>\n",
              "      <td>1.5</td>\n",
              "    </tr>\n",
              "    <tr>\n",
              "      <th>3</th>\n",
              "      <td>6.3</td>\n",
              "      <td>2.9</td>\n",
              "      <td>5.6</td>\n",
              "      <td>1.8</td>\n",
              "    </tr>\n",
              "  </tbody>\n",
              "</table>\n",
              "</div>\n",
              "      <button class=\"colab-df-convert\" onclick=\"convertToInteractive('df-3da1bd50-c107-4af5-ab30-88c7d686ef3c')\"\n",
              "              title=\"Convert this dataframe to an interactive table.\"\n",
              "              style=\"display:none;\">\n",
              "        \n",
              "  <svg xmlns=\"http://www.w3.org/2000/svg\" height=\"24px\"viewBox=\"0 0 24 24\"\n",
              "       width=\"24px\">\n",
              "    <path d=\"M0 0h24v24H0V0z\" fill=\"none\"/>\n",
              "    <path d=\"M18.56 5.44l.94 2.06.94-2.06 2.06-.94-2.06-.94-.94-2.06-.94 2.06-2.06.94zm-11 1L8.5 8.5l.94-2.06 2.06-.94-2.06-.94L8.5 2.5l-.94 2.06-2.06.94zm10 10l.94 2.06.94-2.06 2.06-.94-2.06-.94-.94-2.06-.94 2.06-2.06.94z\"/><path d=\"M17.41 7.96l-1.37-1.37c-.4-.4-.92-.59-1.43-.59-.52 0-1.04.2-1.43.59L10.3 9.45l-7.72 7.72c-.78.78-.78 2.05 0 2.83L4 21.41c.39.39.9.59 1.41.59.51 0 1.02-.2 1.41-.59l7.78-7.78 2.81-2.81c.8-.78.8-2.07 0-2.86zM5.41 20L4 18.59l7.72-7.72 1.47 1.35L5.41 20z\"/>\n",
              "  </svg>\n",
              "      </button>\n",
              "      \n",
              "  <style>\n",
              "    .colab-df-container {\n",
              "      display:flex;\n",
              "      flex-wrap:wrap;\n",
              "      gap: 12px;\n",
              "    }\n",
              "\n",
              "    .colab-df-convert {\n",
              "      background-color: #E8F0FE;\n",
              "      border: none;\n",
              "      border-radius: 50%;\n",
              "      cursor: pointer;\n",
              "      display: none;\n",
              "      fill: #1967D2;\n",
              "      height: 32px;\n",
              "      padding: 0 0 0 0;\n",
              "      width: 32px;\n",
              "    }\n",
              "\n",
              "    .colab-df-convert:hover {\n",
              "      background-color: #E2EBFA;\n",
              "      box-shadow: 0px 1px 2px rgba(60, 64, 67, 0.3), 0px 1px 3px 1px rgba(60, 64, 67, 0.15);\n",
              "      fill: #174EA6;\n",
              "    }\n",
              "\n",
              "    [theme=dark] .colab-df-convert {\n",
              "      background-color: #3B4455;\n",
              "      fill: #D2E3FC;\n",
              "    }\n",
              "\n",
              "    [theme=dark] .colab-df-convert:hover {\n",
              "      background-color: #434B5C;\n",
              "      box-shadow: 0px 1px 3px 1px rgba(0, 0, 0, 0.15);\n",
              "      filter: drop-shadow(0px 1px 2px rgba(0, 0, 0, 0.3));\n",
              "      fill: #FFFFFF;\n",
              "    }\n",
              "  </style>\n",
              "\n",
              "      <script>\n",
              "        const buttonEl =\n",
              "          document.querySelector('#df-3da1bd50-c107-4af5-ab30-88c7d686ef3c button.colab-df-convert');\n",
              "        buttonEl.style.display =\n",
              "          google.colab.kernel.accessAllowed ? 'block' : 'none';\n",
              "\n",
              "        async function convertToInteractive(key) {\n",
              "          const element = document.querySelector('#df-3da1bd50-c107-4af5-ab30-88c7d686ef3c');\n",
              "          const dataTable =\n",
              "            await google.colab.kernel.invokeFunction('convertToInteractive',\n",
              "                                                     [key], {});\n",
              "          if (!dataTable) return;\n",
              "\n",
              "          const docLinkHtml = 'Like what you see? Visit the ' +\n",
              "            '<a target=\"_blank\" href=https://colab.research.google.com/notebooks/data_table.ipynb>data table notebook</a>'\n",
              "            + ' to learn more about interactive tables.';\n",
              "          element.innerHTML = '';\n",
              "          dataTable['output_type'] = 'display_data';\n",
              "          await google.colab.output.renderOutput(dataTable, element);\n",
              "          const docLink = document.createElement('div');\n",
              "          docLink.innerHTML = docLinkHtml;\n",
              "          element.appendChild(docLink);\n",
              "        }\n",
              "      </script>\n",
              "    </div>\n",
              "  </div>\n",
              "  "
            ]
          },
          "metadata": {},
          "execution_count": 20
        }
      ]
    },
    {
      "cell_type": "markdown",
      "source": [
        "### Visualize the data\n",
        "Plot the training and test points, where:\n",
        "- First species: Black\n",
        "- Second Species: Grey\n",
        "- Third Species: Blue\n",
        "- Test points: Orange"
      ],
      "metadata": {
        "id": "qH6uIN_0HUPt"
      }
    },
    {
      "cell_type": "code",
      "source": [
        "colors = {'ESPECIE 1': 'black', 'ESPECIE 2': 'grey', 'ESPECIE 3': 'blue'}\n",
        "dp=data.plot(kind=\"scatter\", x=2, y=3, color=data[\"ESPECIES\"].map(colors))\n",
        "x_test.plot(kind=\"scatter\", x=2, y=3, color=\"orange\", ax=dp)"
      ],
      "metadata": {
        "colab": {
          "base_uri": "https://localhost:8080/",
          "height": 466
        },
        "id": "SBk4CWIltC61",
        "outputId": "9105c6b2-60cb-439b-f5d0-2bd65ee19d62"
      },
      "execution_count": null,
      "outputs": [
        {
          "output_type": "execute_result",
          "data": {
            "text/plain": [
              "<Axes: xlabel='2', ylabel='3'>"
            ]
          },
          "metadata": {},
          "execution_count": 82
        },
        {
          "output_type": "display_data",
          "data": {
            "text/plain": [
              "<Figure size 640x480 with 1 Axes>"
            ],
            "image/png": "[encoded data removed]"
          },
          "metadata": {}
        }
      ]
    },
    {
      "cell_type": "markdown",
      "source": [
        "### Results at a glance\n",
        "we can see that of the 4 points:\n",
        "- 1 is of the first species\n",
        "- 2 are of the second species\n",
        "- 1 is of the third species\n",
        "\n",
        "Know we will use the KNN algorihtm implemented in the SKlearn library to see the results, but we will variate the value of K (the number of the neighbors) to see if we have different results."
      ],
      "metadata": {
        "id": "Wd1uLtYfIO57"
      }
    },
    {
      "cell_type": "code",
      "source": [
        "K=3\n",
        "knn=KNeighborsClassifier(n_neighbors=K)\n",
        "knn.fit(x_train, y_train)\n",
        "y_pred_sklearn= knn.predict(x_test)\n",
        "print(y_pred_sklearn)"
      ],
      "metadata": {
        "colab": {
          "base_uri": "https://localhost:8080/"
        },
        "id": "V2xByug8pYe2",
        "outputId": "d308bd1d-578c-4938-f57b-75c54adea0a5"
      },
      "execution_count": null,
      "outputs": [
        {
          "output_type": "stream",
          "name": "stdout",
          "text": [
            "['ESPECIE 1' 'ESPECIE 2' 'ESPECIE 2' 'ESPECIE 3']\n"
          ]
        }
      ]
    },
    {
      "cell_type": "code",
      "source": [
        "K=5\n",
        "knn=KNeighborsClassifier(n_neighbors=K)\n",
        "knn.fit(x_train, y_train)\n",
        "y_pred_sklearn= knn.predict(x_test)\n",
        "print(y_pred_sklearn)"
      ],
      "metadata": {
        "colab": {
          "base_uri": "https://localhost:8080/"
        },
        "id": "Sx25HxBxqtpv",
        "outputId": "44b136c3-0d66-4d9f-c867-6e190d3825b9"
      },
      "execution_count": null,
      "outputs": [
        {
          "output_type": "stream",
          "name": "stdout",
          "text": [
            "['ESPECIE 1' 'ESPECIE 2' 'ESPECIE 2' 'ESPECIE 3']\n"
          ]
        }
      ]
    },
    {
      "cell_type": "code",
      "source": [
        "K=7\n",
        "knn=KNeighborsClassifier(n_neighbors=K)\n",
        "knn.fit(x_train, y_train)\n",
        "y_pred_sklearn= knn.predict(x_test)\n",
        "print(y_pred_sklearn)"
      ],
      "metadata": {
        "colab": {
          "base_uri": "https://localhost:8080/"
        },
        "id": "39isbtXus7CL",
        "outputId": "2d33a320-ffd2-4dc1-e966-b7dea2ef8d7f"
      },
      "execution_count": null,
      "outputs": [
        {
          "output_type": "stream",
          "name": "stdout",
          "text": [
            "['ESPECIE 1' 'ESPECIE 2' 'ESPECIE 2' 'ESPECIE 3']\n"
          ]
        }
      ]
    },
    {
      "cell_type": "code",
      "source": [
        "K=9\n",
        "knn=KNeighborsClassifier(n_neighbors=K)\n",
        "knn.fit(x_train, y_train)\n",
        "y_pred_sklearn= knn.predict(x_test)\n",
        "print(y_pred_sklearn)"
      ],
      "metadata": {
        "colab": {
          "base_uri": "https://localhost:8080/"
        },
        "id": "zurQsdeFs9hy",
        "outputId": "4727b51d-c79f-4d4a-e798-527ff03b84f9"
      },
      "execution_count": null,
      "outputs": [
        {
          "output_type": "stream",
          "name": "stdout",
          "text": [
            "['ESPECIE 1' 'ESPECIE 2' 'ESPECIE 2' 'ESPECIE 3']\n"
          ]
        }
      ]
    },
    {
      "cell_type": "markdown",
      "source": [
        "### Conclusions\n",
        "We could see that the results were the same, no matter the value of K, the efectiveness was of 100% and compare to the manual KNN, the library's algorithm is much faster.\n",
        "\n",
        "The libraries can help us a lot to save time and space complexity, in addition to save lines of code, but for sure we have to know how the algorithm we will use works and for what ocasions is good to use it."
      ],
      "metadata": {
        "id": "aH7flqdLJHW9"
      }
    }
  ]
}