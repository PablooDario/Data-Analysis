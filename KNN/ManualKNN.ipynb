{
  "cells": [
    {
      "cell_type": "markdown",
      "id": "2b29c626",
      "metadata": {
        "id": "2b29c626"
      },
      "source": [
        "# KNN From Scratch"
      ]
    },
    {
      "cell_type": "markdown",
      "source": [
        "Import the operator library for sort the list with a key"
      ],
      "metadata": {
        "id": "pjlSuA4kk9dD"
      },
      "id": "pjlSuA4kk9dD"
    },
    {
      "cell_type": "code",
      "execution_count": 1,
      "id": "3939fac7",
      "metadata": {
        "id": "3939fac7"
      },
      "outputs": [],
      "source": [
        "import operator"
      ]
    },
    {
      "cell_type": "markdown",
      "id": "92c8acbc",
      "metadata": {
        "id": "92c8acbc"
      },
      "source": [
        "## Eculidian Distance\n",
        "We choose the Euclidian distance, so we make a function to calculate it for the test elements with all the trained elements.\n",
        "\n",
        "It is very easy to understand; the input are only 2 elements, the test and the trained element, where both are a list, then for each element of the lists we perform their substraction to the power of 2 and add it to another variable which will have the sum of all the substractions and then we return the square root of that variable. I.E.\n",
        "\n",
        "$$\\sqrt{(x_1 - x_2)^2 + (y_1 - y_2)^2 + ... + (z_1 - z_2)^2 }$$"
      ]
    },
    {
      "cell_type": "code",
      "execution_count": 2,
      "id": "e7a13a8e",
      "metadata": {
        "id": "e7a13a8e"
      },
      "outputs": [],
      "source": [
        "def euclidean_distance(test_set, trained_set):\n",
        "    distance = 0\n",
        "    for x in range(len(test_set)):\n",
        "        distance += pow((test_set[x] - trained_set[x]), 2)\n",
        "    return distance**0.5"
      ]
    },
    {
      "cell_type": "markdown",
      "id": "ca08903b",
      "metadata": {
        "id": "ca08903b"
      },
      "source": [
        "### Obtain the K Nearest Neighbors\n",
        "- For each element in the training set we get their distance with the test element with the previous function\n",
        "- Create a list that have the elements with their distances\n",
        "- Sort the list of the distances with a key (distance value)\n",
        "- Return the k first elements of the list, we only return the elements, not their distance"
      ]
    },
    {
      "cell_type": "code",
      "execution_count": 3,
      "id": "2af11d63",
      "metadata": {
        "id": "2af11d63"
      },
      "outputs": [],
      "source": [
        "def get_neighbors(training_set, test_instance, k):\n",
        "    distances = []\n",
        "    for x in range(len(training_set)):\n",
        "        dist = euclidean_distance(test_instance, training_set[x])\n",
        "        distances.append((training_set[x], dist))\n",
        "    #print('distances\\n' ,distances)\n",
        "    distances.sort(key=operator.itemgetter(1))\n",
        "    neighbors = []\n",
        "    for x in range(k):\n",
        "        neighbors.append(distances[x][0])\n",
        "    return neighbors"
      ]
    },
    {
      "cell_type": "markdown",
      "source": [
        "## Get the class of the new element\n",
        "- Create a dictionary to find out which is the most repeated class in the k nearest neighbors, for that we traverse the list of the K nearest neighbors and every time we pass a class, we add one to its frequence.\n",
        "- We sort the dictionary and the first element is the most repeated class, that is the majority class of the nearest neighbors, so we return the sorted dictionary and the neighbors."
      ],
      "metadata": {
        "id": "qGTd13D7pyJo"
      },
      "id": "qGTd13D7pyJo"
    },
    {
      "cell_type": "code",
      "execution_count": 4,
      "id": "8cf6c1f3",
      "metadata": {
        "id": "8cf6c1f3"
      },
      "outputs": [],
      "source": [
        "def predict_classification(training_set, test_instance, k):\n",
        "    neighbors = get_neighbors(training_set, test_instance, k)\n",
        "    frequency = {}\n",
        "    for x in range(len(neighbors)):\n",
        "        clase = neighbors[x][-1]\n",
        "        if clase in frequency:\n",
        "            frequency[clase] += 1\n",
        "        else:\n",
        "            frequency[clase] = 1\n",
        "    sorted_class = sorted(frequency.items(), key=operator.itemgetter(1), reverse=True)\n",
        "    print(\"sorted class\",sorted_class)\n",
        "    ans=[sorted_class[0][0], neighbors]\n",
        "    return ans"
      ]
    },
    {
      "cell_type": "markdown",
      "source": [
        "## Main Function\n",
        "- Initialize the training and the test set\n",
        "- Give a value to K (this has to be odd to avoid ties)\n",
        "- Send values to the previous functions to determine the class"
      ],
      "metadata": {
        "id": "Kp6deARMsIGu"
      },
      "id": "Kp6deARMsIGu"
    },
    {
      "cell_type": "code",
      "execution_count": 5,
      "id": "c6352f79",
      "metadata": {
        "id": "c6352f79",
        "outputId": "f1f0fab7-172e-431b-91cc-91e254e1865f",
        "colab": {
          "base_uri": "https://localhost:8080/"
        }
      },
      "outputs": [
        {
          "output_type": "stream",
          "name": "stdout",
          "text": [
            "sorted class [(1, 2), (0, 1)]\n",
            "1\n"
          ]
        }
      ],
      "source": [
        "test_instance = [6.2, 3.4, 5.4, 2.3]\n",
        "training_set = [[5.1, 3.5, 1.4, 0.2, 0],\n",
        "                [4.9, 3.0, 1.4, 0.2, 0],\n",
        "                [5.8, 2.6, 4.0, 1.2, 1],\n",
        "                [6.7, 3.0, 5.2, 2.3, 1],\n",
        "                [6.0, 3.4, 4.5, 1.6, 0]]\n",
        "\n",
        "k = 3\n",
        "predicted_class, neighbors = predict_classification(training_set, test_instance, k)\n",
        "print(predicted_class)"
      ]
    },
    {
      "cell_type": "markdown",
      "id": "4bee388d",
      "metadata": {
        "id": "4bee388d"
      },
      "source": [
        "## Plot the new point with its neighbors\n",
        "- Separate the characteristics and its class labels of the elements,since we only need its characteristics to plot it and its label to give them a color, Yellow for 1 and Purple for 0.\n",
        "- Plot the trained and test point, this last one will have a 'X' mark\n",
        "- Plot the distance between the K Nearest Neighbors with the test point\n"
      ]
    },
    {
      "cell_type": "code",
      "execution_count": 6,
      "id": "c64068e0",
      "metadata": {
        "id": "c64068e0",
        "outputId": "fe5950e7-f38f-49a4-9533-9c549d6e6aff",
        "colab": {
          "base_uri": "https://localhost:8080/",
          "height": 430
        }
      },
      "outputs": [
        {
          "output_type": "display_data",
          "data": {
            "text/plain": [
              "<Figure size 640x480 with 1 Axes>"
            ],
            "image/png": "[encoded data removed]"
          },
          "metadata": {}
        }
      ],
      "source": [
        "import matplotlib.pyplot as plt\n",
        "\n",
        "def plot_neighbors(training_set, test_instance, k, neighbors):\n",
        "    train_features = [x[:-1] for x in training_set]\n",
        "    train_labels = [x[-1] for x in training_set]\n",
        "    test_features = test_instance[:-1]\n",
        "\n",
        "    plt.scatter([x[0] for x in train_features], [x[1] for x in train_features], c=train_labels)\n",
        "    plt.scatter(test_features[0], test_features[1], marker='x', s=100, linewidths=3, color='black')\n",
        "\n",
        "    for neighbor in neighbors:\n",
        "        plt.plot([test_features[0], neighbor[0]], [test_features[1], neighbor[1]], 'k--', linewidth=0.6)\n",
        "\n",
        "    plt.show()\n",
        "\n",
        "k = 3\n",
        "plot_neighbors(training_set, test_instance, k, neighbors)"
      ]
    }
  ],
  "metadata": {
    "kernelspec": {
      "display_name": "Python 3 (ipykernel)",
      "language": "python",
      "name": "python3"
    },
    "language_info": {
      "codemirror_mode": {
        "name": "ipython",
        "version": 3
      },
      "file_extension": ".py",
      "mimetype": "text/x-python",
      "name": "python",
      "nbconvert_exporter": "python",
      "pygments_lexer": "ipython3",
      "version": "3.9.13"
    },
    "colab": {
      "provenance": []
    }
  },
  "nbformat": 4,
  "nbformat_minor": 5
}