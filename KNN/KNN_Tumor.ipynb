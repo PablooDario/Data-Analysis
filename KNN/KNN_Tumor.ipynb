{
  "cells": [
    {
      "cell_type": "markdown",
      "id": "0e592ba6",
      "metadata": {
        "id": "0e592ba6"
      },
      "source": [
        "# Benign or malignant tumors (KNN)"
      ]
    },
    {
      "cell_type": "markdown",
      "id": "tAwNfCVN1BC5",
      "metadata": {
        "id": "tAwNfCVN1BC5"
      },
      "source": [
        "Import the libraries we are gonna use"
      ]
    },
    {
      "cell_type": "code",
      "execution_count": 1,
      "id": "79f52dcf",
      "metadata": {
        "id": "79f52dcf"
      },
      "outputs": [],
      "source": [
        "import operator\n",
        "import pandas as pd\n",
        "from matplotlib import pyplot as plt"
      ]
    },
    {
      "cell_type": "markdown",
      "id": "6460051d",
      "metadata": {
        "id": "6460051d"
      },
      "source": [
        "### We start creating the functions for KNN with the Eculidian Distance\n",
        "\n",
        "The input are only 2 elements, the test and the trained element, where both are a list, then for each element of the lists we perform their substraction to the power of 2 and add it to another variable which will have the sum of all the substractions and then we return the square root of that variable. I.E.\n",
        "\n",
        "$$\\sqrt{(x_1 - x_2)^2 + (y_1 - y_2)^2 + ... + (z_1 - z_2)^2 }$$"
      ]
    },
    {
      "cell_type": "code",
      "execution_count": 2,
      "id": "a64f15ed",
      "metadata": {
        "id": "a64f15ed"
      },
      "outputs": [],
      "source": [
        "def Euclidian (TrainedList, TestPoint):\n",
        "    distance=0\n",
        "    for i in range (len(TestPoint)):\n",
        "        distance += (TrainedList[i]-TestPoint[i])**2\n",
        "    return (distance)**0.5"
      ]
    },
    {
      "cell_type": "markdown",
      "id": "7999b695",
      "metadata": {
        "id": "7999b695"
      },
      "source": [
        "### Obtain the K Nearest Neighbors\n",
        "- For each element in the training set we get their distance with the test element with the previous function\n",
        "- Create a list that have the class of the elements with their distances\n",
        "- Sort the list of the distances\n",
        "- Return the k first elements of the list, we only return the elements, not their distance"
      ]
    },
    {
      "cell_type": "code",
      "execution_count": 3,
      "id": "ae3c7a76",
      "metadata": {
        "id": "ae3c7a76"
      },
      "outputs": [],
      "source": [
        "def Kneighbors (TrainedList, TestPoint, k):\n",
        "    distance=[]\n",
        "    for x in TrainedList:\n",
        "        distance.append([Euclidian(x, TestPoint), x[-1]])\n",
        "    distance.sort()\n",
        "\n",
        "    neighbors=[]\n",
        "    for i in range(k):\n",
        "        neighbors.append(distance[i][1])\n",
        "    return neighbors"
      ]
    },
    {
      "cell_type": "markdown",
      "id": "1a1be79d",
      "metadata": {
        "id": "1a1be79d"
      },
      "source": [
        "### Create The Principal Function\n",
        "- Traverse each element of the test list to get their individual class; for this we`re going to:\n",
        "- Get their k nearest neighbors.\n",
        "- Check the class of each neighbor.\n",
        "- Create a dictionary to find out which is the most repeated class in the k nearest neighbors, so we traverse the list of the K nearest neighbors and every time we pass a class, we add one to its frequence.\n",
        "- Sort the dictionary and the first element is the most repeated class.\n",
        "- Assign that class to the element we are.\n"
      ]
    },
    {
      "cell_type": "code",
      "execution_count": 4,
      "id": "31260812",
      "metadata": {
        "id": "31260812"
      },
      "outputs": [],
      "source": [
        "def KNN (Trained, Test, k):\n",
        "    clasification=[]\n",
        "    for x in Test:\n",
        "        neighbors=Kneighbors(Trained, x, k)\n",
        "        Class={}\n",
        "        for n in neighbors:\n",
        "            if n in Class :\n",
        "                Class[n]+=1\n",
        "            else:\n",
        "                Class[n]=1\n",
        "        dictSort=sorted(Class.items(), key=operator.itemgetter(1), reverse=True)\n",
        "        x.append(dictSort[0][0])\n",
        "        clasification.append(dictSort[0][0])\n"
      ]
    },
    {
      "cell_type": "markdown",
      "id": "9o2QRCY01fiJ",
      "metadata": {
        "id": "9o2QRCY01fiJ"
      },
      "source": [
        "### Read the csv file\n",
        "Separate the tumors according to their classification, benign or malign to work with a better organization"
      ]
    },
    {
      "cell_type": "code",
      "execution_count": 5,
      "id": "Y36Vj5Xm1erH",
      "metadata": {
        "colab": {
          "base_uri": "https://localhost:8080/"
        },
        "id": "Y36Vj5Xm1erH",
        "outputId": "79b34eff-431e-4488-a7d3-cd04c3a21d18"
      },
      "outputs": [
        {
          "name": "stdout",
          "output_type": "stream",
          "text": [
            "(357, 32) (212, 32)\n"
          ]
        }
      ],
      "source": [
        "data=pd.read_csv('DataSets/tumors.csv')\n",
        "benign=data[data['diagnosis']=='B']\n",
        "malign=data[data['diagnosis']=='M']\n",
        "print(benign.shape, malign.shape)"
      ]
    },
    {
      "cell_type": "markdown",
      "id": "W1fBFgrr2TgJ",
      "metadata": {
        "id": "W1fBFgrr2TgJ"
      },
      "source": [
        "We'll work only with 3 values:\n",
        "- Area Mean\n",
        "- Area Se\n",
        "- Smoothness\n",
        "\n",
        "Which are the values with more differences between the benign and malign tumors, so we are going to drop the other values."
      ]
    },
    {
      "cell_type": "code",
      "execution_count": 6,
      "id": "82b40270",
      "metadata": {
        "id": "82b40270"
      },
      "outputs": [],
      "source": [
        "benign=benign[['area_mean','area_se','smoothness_worst']].values.tolist()\n",
        "malign=malign[['area_mean','area_se','smoothness_worst']].values.tolist()"
      ]
    },
    {
      "cell_type": "markdown",
      "id": "de043500",
      "metadata": {
        "id": "de043500"
      },
      "source": [
        "We'll use 50 elements from each list for the training, so we save them in another list and asign them their class"
      ]
    },
    {
      "cell_type": "code",
      "execution_count": 7,
      "id": "3ee9376e",
      "metadata": {
        "id": "3ee9376e"
      },
      "outputs": [],
      "source": [
        "trainedB=benign[:50]\n",
        "trainedM=malign[:50]\n",
        "trained=[]\n",
        "for i in range (len(trainedB)):\n",
        "    trainedB[i].append('B')\n",
        "    trained.append(trainedB[i])\n",
        "for i in range (len(trainedM)):\n",
        "    trainedM[i].append('M')\n",
        "    trained.append(trainedM[i])"
      ]
    },
    {
      "cell_type": "markdown",
      "id": "14c3c8d0",
      "metadata": {
        "id": "14c3c8d0"
      },
      "source": [
        "### Create the Test List and a List of the Actual Classes\n",
        "We will create a list with 20 elements, 10 will be benign and 10 malignant, we will insert them alternately and add each class to an extra list to test the effectiveness of the model afterwards"
      ]
    },
    {
      "cell_type": "code",
      "execution_count": 8,
      "id": "94c19e00",
      "metadata": {
        "colab": {
          "base_uri": "https://localhost:8080/"
        },
        "id": "94c19e00",
        "outputId": "e4d2a87f-f7c8-4f07-c932-720634edef03"
      },
      "outputs": [
        {
          "data": {
            "text/plain": [
              "[[725.5, 20.0, 0.1222, 'M'],\n",
              " [588.9, 49.7, 0.1737, 'M'],\n",
              " [428.0, 17.12, 0.128, 'B'],\n",
              " [1024.0, 76.36, 0.08822, 'M'],\n",
              " [432.2, 21.46, 0.1405, 'B'],\n",
              " [1148.0, 54.22, 0.1322, 'M'],\n",
              " [321.2, 22.79, 0.09527, 'B'],\n",
              " [642.7, 19.42, 0.1552, 'M'],\n",
              " [568.9, 17.4, 0.1311, 'B'],\n",
              " [951.6, 40.73, 0.1381, 'M'],\n",
              " [561.3, 21.03, 0.1376, 'B'],\n",
              " [1685.0, 83.16, 0.1536, 'M'],\n",
              " [313.1, 15.05, 0.1406, 'B'],\n",
              " [597.8, 52.72, 0.2226, 'B'],\n",
              " [546.4, 24.68, 0.1276, 'M'],\n",
              " [716.6, 26.44, 0.1491, 'M'],\n",
              " [641.2, 48.29, 0.1297, 'M'],\n",
              " [904.3, 68.46, 0.1111, 'M'],\n",
              " [329.6, 11.86, 0.1341, 'B'],\n",
              " [1290.0, 111.7, 0.1178, 'M']]"
            ]
          },
          "execution_count": 8,
          "metadata": {},
          "output_type": "execute_result"
        }
      ],
      "source": [
        "test=[]\n",
        "classes=[]\n",
        "for i in range(10):\n",
        "    test.append(benign[100+i])\n",
        "    classes.append('B')\n",
        "    test.append(malign[100+i])\n",
        "    classes.append('M')\n",
        "KNN(trained, test, 5)\n",
        "test"
      ]
    },
    {
      "cell_type": "markdown",
      "id": "qL4ZweqD-dxN",
      "metadata": {
        "id": "qL4ZweqD-dxN"
      },
      "source": [
        "\n",
        "### Check the effectiveness of the algorithm\n",
        "We we'll compare the list that have the actual classes of the 20 test elements with the reult the model give us to check if the algorithm is good enough. We have to consider that there are other variables that affect the effectiveness of the algorithm."
      ]
    },
    {
      "cell_type": "code",
      "execution_count": 9,
      "id": "Kk3JKaKN45vg",
      "metadata": {
        "colab": {
          "base_uri": "https://localhost:8080/"
        },
        "id": "Kk3JKaKN45vg",
        "outputId": "a253d3d6-0735-4f9e-bcdc-2944b87e1a26"
      },
      "outputs": [
        {
          "name": "stdout",
          "output_type": "stream",
          "text": [
            "The effectiveness is:  80.0%\n"
          ]
        }
      ],
      "source": [
        "total=0\n",
        "for i in range(len(test)):\n",
        "    if(classes[i]==test[i][3]):\n",
        "        total+=1\n",
        "print('The effectiveness is: ', str(round(total/len(test)*100,2)) + '%')"
      ]
    },
    {
      "cell_type": "markdown",
      "id": "ld5NFV2A_QIF",
      "metadata": {
        "id": "ld5NFV2A_QIF"
      },
      "source": [
        "### Plot the Data\n",
        "To visualize the test points with the others, let's make a graph, where:\n",
        "- The green points are the benign tumors\n",
        "- The red points are the malign tumors\n",
        "- The blue points are the test points"
      ]
    },
    {
      "cell_type": "code",
      "execution_count": 10,
      "id": "9c985355",
      "metadata": {
        "colab": {
          "base_uri": "https://localhost:8080/",
          "height": 434
        },
        "id": "9c985355",
        "outputId": "5d104008-4330-4d1e-8e35-4562de171e7b"
      },
      "outputs": [
        {
          "data": {
            "image/png": "[encoded data removed]",
            "text/plain": [
              "<Figure size 640x480 with 1 Axes>"
            ]
          },
          "metadata": {},
          "output_type": "display_data"
        }
      ],
      "source": [
        "def Plot(trainedList, testList):\n",
        "    trainedLabels=[]\n",
        "    for i in range(len(trainedList)):\n",
        "        if(trainedList[i][-1]=='B'):\n",
        "            trainedLabels.append('Green')\n",
        "        else:\n",
        "            trainedLabels.append('Red')\n",
        "    plt.scatter([x[0] for x in testList], [x[1] for x in testList], c='Blue')\n",
        "    plt.scatter([x[0] for x in trainedList], [x[1] for x in trainedList], c=trainedLabels)\n",
        "\n",
        "plt.show()\n",
        "Plot(trained, test)"
      ]
    }
  ],
  "metadata": {
    "colab": {
      "provenance": []
    },
    "kernelspec": {
      "display_name": "Python 3 (ipykernel)",
      "language": "python",
      "name": "python3"
    },
    "language_info": {
      "codemirror_mode": {
        "name": "ipython",
        "version": 3
      },
      "file_extension": ".py",
      "mimetype": "text/x-python",
      "name": "python",
      "nbconvert_exporter": "python",
      "pygments_lexer": "ipython3",
      "version": "3.10.6"
    }
  },
  "nbformat": 4,
  "nbformat_minor": 5
}
