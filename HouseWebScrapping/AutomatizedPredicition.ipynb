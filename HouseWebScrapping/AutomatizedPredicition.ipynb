{
 "cells": [
  {
   "cell_type": "markdown",
   "metadata": {},
   "source": [
    "# Automatized Prediction for House Prices\n",
    "\n",
    "In this program we will predict the price of a house of any mexican city, since the website where we are going to fetch the Data only have mexican cities.\n",
    "\n",
    "First we'll read the mexican city we want for make the prediction there, then Selenium will get the URL of the website and then we'll make staticians operations for the prediction of the price with the size of the house.\n",
    "\n",
    "**Cautions**\n",
    "*If you download this notebook and dont work is because you have to download the newest version of Google Chrome driver*"
   ]
  },
  {
   "cell_type": "markdown",
   "metadata": {},
   "source": [
    "#### Import the functions from Selenium"
   ]
  },
  {
   "cell_type": "code",
   "execution_count": 27,
   "metadata": {},
   "outputs": [],
   "source": [
    "from selenium import webdriver\n",
    "from selenium.webdriver.support.ui import WebDriverWait\n",
    "from selenium.webdriver.support import expected_conditions as EC\n",
    "from selenium.webdriver.common.by import By\n",
    "from selenium.webdriver.common.keys import Keys\n",
    "import time"
   ]
  },
  {
   "cell_type": "markdown",
   "metadata": {},
   "source": [
    "- Read the txt that have the city or Countie (int his example we have the countie of \"Huixquilucan\" which is in Estado de Mexico)\n",
    "- Start the Selenium Navegation Options\n",
    "- Open the a new in google, so Slenium can works there\n",
    "- Open the page of the houses, Search the city or countie, get the URL"
   ]
  },
  {
   "cell_type": "code",
   "execution_count": null,
   "metadata": {},
   "outputs": [],
   "source": [
    "with open('city.txt', 'r') as archivo:\n",
    "    city = archivo.read()\n",
    "\n",
    "# Navegation Options\n",
    "options =  webdriver.ChromeOptions()\n",
    "options.add_argument('--start-maximized')\n",
    "options.add_argument('--disable-extensions')\n",
    "driver_path = 'chromedriver.exe'\n",
    "driver = webdriver.Chrome(driver_path, chrome_options=options)\n",
    "\n",
    "# Open a second screen for Selenium\n",
    "driver.set_window_position(2000, 0)\n",
    "driver.maximize_window()\n",
    "\n",
    "# Go to the website \n",
    "driver.get(\"https://www.flat.mx/venta/propiedades-en-ciudad-de-mexico\")\n",
    "\n",
    "#Search the city or countie in the Website\n",
    "WebDriverWait(driver, 5)\\\n",
    "    .until(EC.element_to_be_clickable((By.CSS_SELECTOR,'input')))\\\n",
    "    .send_keys(city)\n",
    "    \n",
    "time.sleep(5)\n",
    "    \n",
    "WebDriverWait(driver, 5)\\\n",
    "    .until(EC.element_to_be_clickable((By.CSS_SELECTOR,'input')))\\\n",
    "    .send_keys(Keys.RETURN)\n",
    "\n",
    "# Get the URL \n",
    "url=driver.current_url\n",
    "print(url)\n",
    "time.sleep(5)\n",
    "driver.quit()"
   ]
  },
  {
   "cell_type": "markdown",
   "metadata": {},
   "source": [
    "#### Import the other libraries to make Web Scrapping and Data Analysis"
   ]
  },
  {
   "cell_type": "code",
   "execution_count": 29,
   "metadata": {},
   "outputs": [],
   "source": [
    "from bs4 import BeautifulSoup\n",
    "import requests\n",
    "import numpy as np\n",
    "import matplotlib.pyplot as plt"
   ]
  },
  {
   "cell_type": "markdown",
   "metadata": {},
   "source": [
    "- Fetch all the data from the website that has the houses in the city we want\n",
    "- Save the prices of each house in a list"
   ]
  },
  {
   "cell_type": "code",
   "execution_count": 30,
   "metadata": {},
   "outputs": [],
   "source": [
    "\n",
    "# Get the HTML\n",
    "pagina=requests.get(url)\n",
    "sopa=BeautifulSoup(pagina.content,\"html.parser\")\n",
    "datos=sopa.find_all('p',class_=\"flex items-center gap-[0.625rem] truncate font-montserrat text-sm font-bold tabular-nums text-emerald md:text-base\")\n",
    "\n",
    "# Save the prices\n",
    "prices=list()\n",
    "for x in datos:\n",
    "    prices.append(x.text.split('$')[1])"
   ]
  },
  {
   "cell_type": "markdown",
   "metadata": {},
   "source": [
    "- Do data cleaning\n",
    "- Get the sizes of the houses and save them in another list"
   ]
  },
  {
   "cell_type": "code",
   "execution_count": 31,
   "metadata": {},
   "outputs": [],
   "source": [
    "# Cast from string to integer\n",
    "for x in range(len(prices)):\n",
    "  prices[x]= prices[x].replace(',', '')\n",
    "  prices[x]= prices[x].split(\" \")\n",
    "  prices[x]=prices[x][0]\n",
    "  prices[x] = int(prices[x])\n",
    "\n",
    "# Get the sizes\n",
    "datos=sopa.find_all ('span', class_=\"ml-2 truncate font-montserrat text-xs font-bold tabular-nums text-black\")\n",
    "sizes=[]\n",
    "for x in datos:\n",
    "  z=x.text\n",
    "  if('m²' in z):\n",
    "    sizes.append(int(z.split()[0]))"
   ]
  },
  {
   "cell_type": "code",
   "execution_count": 32,
   "metadata": {},
   "outputs": [
    {
     "name": "stdout",
     "output_type": "stream",
     "text": [
      "Prices --->  [2265000, 2595000, 4000000, 7200000, 2350000, 1749998, 2990000, 7500000, 2800000, 3100000, 3300000, 4580000, 8490000, 5500000, 10000000, 12000000, 8800000, 6600000, 13900000, 7800000]\n",
      "Sizes --->  [85, 102, 180, 285, 68, 50, 104, 295, 76, 126, 96, 160, 259, 401, 450, 290, 262, 196, 522, 195]\n",
      "\n",
      "The lenght of the prices' list is 20\n",
      "The lenght of the sizes' list is 20\n",
      "\n",
      "The Correlation Coeficient is 0.8640586978317497\n"
     ]
    }
   ],
   "source": [
    "print('Prices ---> ', prices)\n",
    "print('Sizes ---> ', sizes)\n",
    "\n",
    "#check both lists have the same size and we do all correctly\n",
    "print(f'\\nThe lenght of the prices\\' list is {len(prices)}')\n",
    "print(f'The lenght of the sizes\\' list is {len(sizes)}')\n",
    "\n",
    "#Get their Correlation Coeficient\n",
    "print('\\nThe Correlation Coeficient is',np.corrcoef(sizes, prices)[0][1])"
   ]
  },
  {
   "cell_type": "markdown",
   "metadata": {},
   "source": [
    "#### Create a Linear Regression without libraries so we can know how it works"
   ]
  },
  {
   "cell_type": "code",
   "execution_count": 33,
   "metadata": {},
   "outputs": [
    {
     "name": "stdout",
     "output_type": "stream",
     "text": [
      "\n",
      "b1: 22586.96   b0:  1130478.75\n"
     ]
    }
   ],
   "source": [
    "n=len(prices)\n",
    "ymedia=np.mean(prices)\n",
    "xmedia=np.mean(sizes)\n",
    "sx, sy, sx2, sy2, sxy = 0, 0, 0, 0, 0\n",
    "for i in range(n):\n",
    "    sx+=sizes[i]\n",
    "    sy+=prices[i]\n",
    "    sxy+=sizes[i]*prices[i]\n",
    "    sx2+=sizes[i]**2\n",
    "    sy2+=prices[i]**2\n",
    "    \n",
    "# Get the coeficients for the Straight Line Formula\n",
    "b1=(n*(sxy)-(sx*sy))/(n*sx2-(sx**2))\n",
    "b0=ymedia-(b1*xmedia)\n",
    "print(\"\\nb1:\", round(b1,2), \"  b0: \", round(b0,2))"
   ]
  },
  {
   "cell_type": "markdown",
   "metadata": {},
   "source": [
    "#### Create The Linear Regression"
   ]
  },
  {
   "cell_type": "code",
   "execution_count": 34,
   "metadata": {},
   "outputs": [],
   "source": [
    "ynew=[]\n",
    "for i in range(len(sizes)):\n",
    "    ynew.append(b0+b1*sizes[i])"
   ]
  },
  {
   "cell_type": "markdown",
   "metadata": {},
   "source": [
    "#### Plot the Results"
   ]
  },
  {
   "cell_type": "code",
   "execution_count": 35,
   "metadata": {},
   "outputs": [
    {
     "data": {
      "image/png": "[encoded data removed]",
      "text/plain": [
       "<Figure size 640x480 with 1 Axes>"
      ]
     },
     "metadata": {},
     "output_type": "display_data"
    }
   ],
   "source": [
    "plt.scatter(sizes,prices, marker='p', s=100)\n",
    "plt.plot(sizes,ynew, c='red')\n",
    "plt.xlabel('Sizes in m²')\n",
    "plt.ylabel('Prices in tens of millions')\n",
    "plt.title('Linear Regression')\n",
    "plt.show()"
   ]
  },
  {
   "cell_type": "code",
   "execution_count": 36,
   "metadata": {},
   "outputs": [
    {
     "name": "stdout",
     "output_type": "stream",
     "text": [
      "A house of 100m² in Huixquilucan will be around: $ 3389175 mexican pesos\n"
     ]
    }
   ],
   "source": [
    "print(\"A house of 100m² in\", city, \"will be around: $\", round(b0+b1*100), 'mexican pesos')"
   ]
  },
  {
   "cell_type": "markdown",
   "metadata": {},
   "source": [
    "#### We can see that this code works very good for the prediction of a house in the city we want.\n",
    "#### we can also make another type of analysis between cities in a very simple way, since the automation is of great help; we only have to change the city we want in the txt file and the program will do all the dirty work :)"
   ]
  }
 ],
 "metadata": {
  "kernelspec": {
   "display_name": "Python 3",
   "language": "python",
   "name": "python3"
  },
  "language_info": {
   "codemirror_mode": {
    "name": "ipython",
    "version": 3
   },
   "file_extension": ".py",
   "mimetype": "text/x-python",
   "name": "python",
   "nbconvert_exporter": "python",
   "pygments_lexer": "ipython3",
   "version": "3.10.6"
  },
  "orig_nbformat": 4
 },
 "nbformat": 4,
 "nbformat_minor": 2
}
