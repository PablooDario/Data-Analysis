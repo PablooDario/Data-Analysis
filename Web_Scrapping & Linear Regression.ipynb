{
  "cells": [
    {
      "cell_type": "code",
      "execution_count": 64,
      "metadata": {
        "id": "NaSfNC_IW9rD"
      },
      "outputs": [],
      "source": [
        "from bs4 import BeautifulSoup\n",
        "import requests\n",
        "import numpy as np\n",
        "import matplotlib.pyplot as plt"
      ]
    },
    {
      "cell_type": "code",
      "execution_count": 65,
      "metadata": {
        "colab": {
          "base_uri": "https://localhost:8080/"
        },
        "id": "Wle1UMECXAI7",
        "outputId": "a695ad00-1ae7-43c6-b286-736e85497697"
      },
      "outputs": [],
      "source": [
        "#Hacemos Web Scrapping y obtenemos el html\n",
        "direccion=\"https://www.flat.mx/venta/propiedades-en-ciudad-de-mexico\"\n",
        "pagina=requests.get(direccion)\n",
        "sopa=BeautifulSoup(pagina.content,\"html.parser\")\n",
        "#print(sopa.prettify())"
      ]
    },
    {
      "cell_type": "code",
      "execution_count": 66,
      "metadata": {
        "colab": {
          "base_uri": "https://localhost:8080/"
        },
        "id": "KHUPCJXrXC28",
        "outputId": "a8c6ce4e-a39b-4380-81de-02bae5bf3309"
      },
      "outputs": [],
      "source": [
        "datos=sopa.find_all('p',class_=\"flex items-center gap-[0.625rem] truncate font-montserrat text-sm font-bold tabular-nums text-emerald md:text-base\")\n",
        "#print(datos)"
      ]
    },
    {
      "cell_type": "code",
      "execution_count": 67,
      "metadata": {
        "colab": {
          "base_uri": "https://localhost:8080/"
        },
        "id": "iubs6Q3FXExW",
        "outputId": "a8fe7145-5ae1-49cb-bbe0-935e9e784ab2"
      },
      "outputs": [
        {
          "name": "stdout",
          "output_type": "stream",
          "text": [
            "<class 'bs4.element.ResultSet'>\n"
          ]
        }
      ],
      "source": [
        "print(type(datos))"
      ]
    },
    {
      "cell_type": "code",
      "execution_count": 68,
      "metadata": {
        "colab": {
          "base_uri": "https://localhost:8080/"
        },
        "id": "xBrp3m89Yr_p",
        "outputId": "dbabdc6d-f6e7-499a-9afe-8fe809291d9d"
      },
      "outputs": [
        {
          "data": {
            "text/plain": [
              "['$2,550,000',\n",
              " '$4,900,000',\n",
              " '$3,800,000',\n",
              " '$3,895,000',\n",
              " '$2,395,000',\n",
              " '$3,240,000',\n",
              " '$3,600,000',\n",
              " '$5,400,000',\n",
              " '$6,500,000',\n",
              " '$7,595,000$7,995,000 6%',\n",
              " '$1,000,000',\n",
              " '$3,907,209',\n",
              " '$2,280,000',\n",
              " '$4,195,000$4,395,000 5%',\n",
              " '$5,295,000',\n",
              " '$3,545,000$3,595,000 2%',\n",
              " '$4,500,000',\n",
              " '$1,280,000',\n",
              " '$1,730,000',\n",
              " '$3,200,000']"
            ]
          },
          "execution_count": 68,
          "metadata": {},
          "output_type": "execute_result"
        }
      ],
      "source": [
        "#Guardamos los precios en una lista\n",
        "precios=list()\n",
        "for x in datos:\n",
        "    precios.append(x.text)\n",
        "precios"
      ]
    },
    {
      "cell_type": "code",
      "execution_count": 69,
      "metadata": {
        "colab": {
          "base_uri": "https://localhost:8080/"
        },
        "id": "kTilBMQ0YvXQ",
        "outputId": "62bcf043-e3ae-455f-93d3-24d85d757c1b"
      },
      "outputs": [
        {
          "name": "stdout",
          "output_type": "stream",
          "text": [
            "<class 'str'>\n"
          ]
        }
      ],
      "source": [
        "#Verificamos que el tipo de dato que contiene precios es string\n",
        "print(type(precios[0]))"
      ]
    },
    {
      "cell_type": "code",
      "execution_count": 70,
      "metadata": {
        "colab": {
          "base_uri": "https://localhost:8080/"
        },
        "id": "OK1NHccWZYdL",
        "outputId": "7d430270-8e8d-440d-9df4-494fca9819bf"
      },
      "outputs": [
        {
          "data": {
            "text/plain": [
              "['$2,550,000',\n",
              " '$4,900,000',\n",
              " '$3,800,000',\n",
              " '$3,895,000',\n",
              " '$2,395,000',\n",
              " '$3,240,000',\n",
              " '$3,600,000',\n",
              " '$5,400,000',\n",
              " '$6,500,000',\n",
              " '$7,595,000',\n",
              " '$1,000,000',\n",
              " '$3,907,209',\n",
              " '$2,280,000',\n",
              " '$4,195,000',\n",
              " '$5,295,000',\n",
              " '$3,545,000',\n",
              " '$4,500,000',\n",
              " '$1,280,000',\n",
              " '$1,730,000',\n",
              " '$3,200,000']"
            ]
          },
          "execution_count": 70,
          "metadata": {},
          "output_type": "execute_result"
        }
      ],
      "source": [
        "#Hacemos una limpieza de datos manual\n",
        "precios[9]='$7,595,000'\n",
        "precios[13]='$4,195,000'\n",
        "precios[15]='$3,545,000'\n",
        "precios"
      ]
    },
    {
      "cell_type": "code",
      "execution_count": 71,
      "metadata": {
        "colab": {
          "base_uri": "https://localhost:8080/"
        },
        "id": "tmD-ghDKZx1I",
        "outputId": "e30af3d5-a78a-4685-f05e-df14f7dd8409"
      },
      "outputs": [
        {
          "data": {
            "text/plain": [
              "[2550000,\n",
              " 4900000,\n",
              " 3800000,\n",
              " 3895000,\n",
              " 2395000,\n",
              " 3240000,\n",
              " 3600000,\n",
              " 5400000,\n",
              " 6500000,\n",
              " 7595000,\n",
              " 1000000,\n",
              " 3907209,\n",
              " 2280000,\n",
              " 4195000,\n",
              " 5295000,\n",
              " 3545000,\n",
              " 4500000,\n",
              " 1280000,\n",
              " 1730000,\n",
              " 3200000]"
            ]
          },
          "execution_count": 71,
          "metadata": {},
          "output_type": "execute_result"
        }
      ],
      "source": [
        "#Convertimos de string a int los precios\n",
        "for x in range(len(precios)):\n",
        "  precios[x]= precios[x].replace('$', '')\n",
        "  precios[x]= precios[x].replace(',', '')\n",
        "  precios[x] = int(precios[x])\n",
        "precios"
      ]
    },
    {
      "cell_type": "code",
      "execution_count": 72,
      "metadata": {
        "colab": {
          "base_uri": "https://localhost:8080/"
        },
        "id": "tmIoFlmucY-N",
        "outputId": "74fff12b-322b-45e8-f780-7ec845107a9f"
      },
      "outputs": [],
      "source": [
        "#Obtenemos el html de los tamaños\n",
        "datos=sopa.find_all ('span', class_=\"ml-2 truncate font-montserrat text-xs font-bold tabular-nums text-black\")\n",
        "#print(datos)"
      ]
    },
    {
      "cell_type": "code",
      "execution_count": 73,
      "metadata": {
        "colab": {
          "base_uri": "https://localhost:8080/"
        },
        "id": "64J0g47sc2Hm",
        "outputId": "eae67bf2-1c0e-4233-e158-5590d7062e00"
      },
      "outputs": [
        {
          "data": {
            "text/plain": [
              "['144 m²',\n",
              " '335 m²',\n",
              " '220 m²',\n",
              " '82 m²',\n",
              " '69 m²',\n",
              " '127 m²',\n",
              " '83 m²',\n",
              " '243 m²',\n",
              " '185 m²',\n",
              " '280 m²',\n",
              " '49 m²',\n",
              " '114 m²',\n",
              " '80 m²',\n",
              " '119 m²',\n",
              " '129 m²',\n",
              " '82 m²',\n",
              " '180 m²',\n",
              " '74 m²',\n",
              " '59 m²',\n",
              " '117 m²']"
            ]
          },
          "execution_count": 73,
          "metadata": {},
          "output_type": "execute_result"
        }
      ],
      "source": [
        "#Guardamos los tamaños en una lista\n",
        "tamaños=[]\n",
        "for x in datos:\n",
        "  z=x.text\n",
        "  if('m²' in z):\n",
        "    tamaños.append(z)\n",
        "tamaños"
      ]
    },
    {
      "cell_type": "code",
      "execution_count": 74,
      "metadata": {
        "colab": {
          "base_uri": "https://localhost:8080/"
        },
        "id": "uysDGdFqdFdv",
        "outputId": "e6585574-397c-471c-d25b-ff90c1dfd45f"
      },
      "outputs": [
        {
          "data": {
            "text/plain": [
              "[144,\n",
              " 335,\n",
              " 220,\n",
              " 82,\n",
              " 69,\n",
              " 127,\n",
              " 83,\n",
              " 243,\n",
              " 185,\n",
              " 280,\n",
              " 49,\n",
              " 114,\n",
              " 80,\n",
              " 119,\n",
              " 129,\n",
              " 82,\n",
              " 180,\n",
              " 74,\n",
              " 59,\n",
              " 117]"
            ]
          },
          "execution_count": 74,
          "metadata": {},
          "output_type": "execute_result"
        }
      ],
      "source": [
        "#Convertimos los tamaños de string a int\n",
        "for i in range(len(tamaños)):\n",
        "  tamaños[i]=int(tamaños[i].replace('m²', ''))\n",
        "tamaños"
      ]
    },
    {
      "cell_type": "code",
      "execution_count": 75,
      "metadata": {
        "colab": {
          "base_uri": "https://localhost:8080/"
        },
        "id": "qWxRyCjgebTC",
        "outputId": "915def89-d0ad-417f-e95f-18aec2bcabf6"
      },
      "outputs": [
        {
          "name": "stdout",
          "output_type": "stream",
          "text": [
            "True\n"
          ]
        }
      ],
      "source": [
        "#Obtenemos el html de los baños\n",
        "datos = sopa.find_all('p', class_=\"flex flex-shrink-0 flex-nowrap items-center\") \n",
        "#convertimos el html a string para utilizar la funcion 'in'\n",
        "datos=str(datos)\n",
        "#print(datos)\n",
        "print('baños' in datos)"
      ]
    },
    {
      "cell_type": "code",
      "execution_count": 76,
      "metadata": {
        "colab": {
          "base_uri": "https://localhost:8080/"
        },
        "id": "S-aDOJ_5gydB",
        "outputId": "aba5cc9b-b50a-4b8d-afe7-82564feabbd0"
      },
      "outputs": [
        {
          "name": "stdout",
          "output_type": "stream",
          "text": [
            "1616\n",
            "2 baños\n"
          ]
        }
      ],
      "source": [
        "#Econtramos la posicion del primer baño, así que crearemos un ciclo para encontrar todos los baños\n",
        "pos=datos.find('baño')\n",
        "print(pos)\n",
        "print(datos[pos-2:pos+5])"
      ]
    },
    {
      "cell_type": "code",
      "execution_count": 77,
      "metadata": {
        "colab": {
          "base_uri": "https://localhost:8080/"
        },
        "id": "LSnk6MS2kPE2",
        "outputId": "1e8fabdd-c3a7-43dd-bd47-621222aafe41"
      },
      "outputs": [
        {
          "data": {
            "text/plain": [
              "[2, 3, 3, 2, 1, 3, 2, 3, 2, 4, 1, 1, 1, 2, 2, 2, 1, 1, 1, 3]"
            ]
          },
          "execution_count": 77,
          "metadata": {},
          "output_type": "execute_result"
        }
      ],
      "source": [
        "baños=[]\n",
        "while(datos.find('baño')!=-1):\n",
        "  pos=datos.find('baño')\n",
        "  baños.append(int(datos[pos-2]))\n",
        "  datos=datos.replace(datos[0:pos+4],'')\n",
        "#print(datos)\n",
        "baños"
      ]
    },
    {
      "cell_type": "code",
      "execution_count": 78,
      "metadata": {
        "colab": {
          "base_uri": "https://localhost:8080/"
        },
        "id": "F7VJSsx8lKNA",
        "outputId": "05841826-35ee-406c-a532-fe96391a9505"
      },
      "outputs": [
        {
          "name": "stdout",
          "output_type": "stream",
          "text": [
            "20\n",
            "20\n",
            "20\n"
          ]
        }
      ],
      "source": [
        "print(len(precios))\n",
        "print(len(tamaños))\n",
        "print(len(baños))"
      ]
    },
    {
      "cell_type": "code",
      "execution_count": 79,
      "metadata": {
        "colab": {
          "base_uri": "https://localhost:8080/"
        },
        "id": "7cishwZPpNVN",
        "outputId": "eb7198f4-09f0-45e2-f4ad-09439c3f6ab2"
      },
      "outputs": [
        {
          "name": "stdout",
          "output_type": "stream",
          "text": [
            "[[1.         0.63766274]\n",
            " [0.63766274 1.        ]]\n",
            "[[1.         0.73602405]\n",
            " [0.73602405 1.        ]]\n"
          ]
        }
      ],
      "source": [
        "#Sacamos correlación entre baños, tamaño y precio\n",
        "ByP=np.corrcoef(baños, precios)\n",
        "TyP=np.corrcoef(tamaños, precios)\n",
        "print(ByP)\n",
        "print(TyP)"
      ]
    },
    {
      "cell_type": "code",
      "execution_count": 80,
      "metadata": {
        "colab": {
          "base_uri": "https://localhost:8080/"
        },
        "id": "9Vkz5c75p_Bs",
        "outputId": "e66c8601-b655-49a2-95df-69d98ed9e119"
      },
      "outputs": [
        {
          "name": "stdout",
          "output_type": "stream",
          "text": [
            "15657.488680124025 15657.488680124034\n",
            "2261085.92822983 1571015.3933688153\n"
          ]
        }
      ],
      "source": [
        "#Vemos que la correlacion entre tamaño y precio es mayor, así que sacamos la correlación lineal\n",
        "\n",
        "sx=0\n",
        "sy=0\n",
        "sx2=0\n",
        "sxy=0\n",
        "n=len(precios)\n",
        "\n",
        "for i in range(n):\n",
        "  sx+=tamaños[i]\n",
        "  sy+=precios[i]\n",
        "  sx2+=tamaños[i]**2\n",
        "  sxy+=tamaños[i]*precios[i]\n",
        "\n",
        "m=(sxy - ((sx*sy)/n)) / (sx2 - ((sx**2)/n))\n",
        "a=((n*sxy)-(sx*sy)) / ((n*sx2) - (sx**2))\n",
        "print(m, a)\n",
        "\n",
        "bclase=precios[15]-(m*tamaños[15])\n",
        "bgoogle=(sy-(a*sx))/n\n",
        "print(bclase, bgoogle)"
      ]
    },
    {
      "cell_type": "code",
      "execution_count": 81,
      "metadata": {
        "colab": {
          "base_uri": "https://localhost:8080/"
        },
        "id": "-cebJSbwvz1l",
        "outputId": "06f64458-59ec-4080-d491-26461dbda29a"
      },
      "outputs": [
        {
          "name": "stdout",
          "output_type": "stream",
          "text": [
            "[4515764.29816769, 7506344.636071378, 5705733.437857116, 3545000.0, 3341452.647158388, 4249586.990605582, 3560657.4886801243, 6065855.677499969, 5157721.334052775, 6645182.758664557, 3028302.8735559075, 4046039.637763969, 3513685.0226397524, 4124327.081164589, 4280901.967965829, 3545000.0, 5079433.890652155, 3419740.090559008, 3184877.7603571475, 4093012.103804341]\n",
            "[3825693.7633066764, 6816274.101210366, 5015662.902996102, 2854929.465138986, 2651382.112297374, 3559516.4557445673, 2870586.95381911, 5375785.142638955, 4467650.799191762, 5955112.223803544, 2338232.338694893, 3355969.1029029554, 2823614.487778738, 3434256.5463035754, 3590831.433104816, 2854929.465138986, 4389363.355791141, 2729669.555697994, 2494807.2254961333, 3402941.5689433273]\n"
          ]
        }
      ],
      "source": [
        "#Creamos la regresión lineal\n",
        "yclase=[]\n",
        "ygoogle=[]\n",
        "for i in range(n):\n",
        "  yclase.append(m*tamaños[i]+bclase)\n",
        "  ygoogle.append(a*tamaños[i]+bgoogle)\n",
        "\n",
        "print(yclase)\n",
        "print(ygoogle)"
      ]
    },
    {
      "cell_type": "code",
      "execution_count": 82,
      "metadata": {
        "colab": {
          "base_uri": "https://localhost:8080/",
          "height": 106
        },
        "id": "BzmGRn0UvFmD",
        "outputId": "7e4c7688-c188-495e-9e33-f8b2f2c83ef9"
      },
      "outputs": [
        {
          "data": {
            "text/plain": [
              "[<matplotlib.lines.Line2D at 0x21139946280>]"
            ]
          },
          "execution_count": 82,
          "metadata": {},
          "output_type": "execute_result"
        },
        {
          "data": {
            "image/png": "[encoded data removed]",
            "text/plain": [
              "<Figure size 640x480 with 1 Axes>"
            ]
          },
          "metadata": {},
          "output_type": "display_data"
        }
      ],
      "source": [
        "plt.scatter(tamaños, precios)\n",
        "plt.plot(tamaños, yclase)\n",
        "plt.plot(tamaños, ygoogle)"
      ]
    }
  ],
  "metadata": {
    "colab": {
      "provenance": []
    },
    "kernelspec": {
      "display_name": "Python 3",
      "name": "python3"
    },
    "language_info": {
      "codemirror_mode": {
        "name": "ipython",
        "version": 3
      },
      "file_extension": ".py",
      "mimetype": "text/x-python",
      "name": "python",
      "nbconvert_exporter": "python",
      "pygments_lexer": "ipython3",
      "version": "3.9.13"
    }
  },
  "nbformat": 4,
  "nbformat_minor": 0
}
