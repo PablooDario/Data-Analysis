{
  "cells": [
    {
      "cell_type": "code",
      "execution_count": 1,
      "metadata": {
        "id": "NaSfNC_IW9rD"
      },
      "outputs": [],
      "source": [
        "from bs4 import BeautifulSoup\n",
        "import requests\n",
        "import numpy as np\n",
        "import matplotlib.pyplot as plt"
      ]
    },
    {
      "cell_type": "code",
      "execution_count": 2,
      "metadata": {
        "colab": {
          "base_uri": "https://localhost:8080/"
        },
        "id": "Wle1UMECXAI7",
        "outputId": "a695ad00-1ae7-43c6-b286-736e85497697"
      },
      "outputs": [],
      "source": [
        "#Hacemos Web Scrapping y obtenemos el html\n",
        "direccion=\"https://www.flat.mx/venta/propiedades-en-ciudad-de-mexico\"\n",
        "pagina=requests.get(direccion)\n",
        "sopa=BeautifulSoup(pagina.content,\"html.parser\")\n",
        "#print(sopa.prettify())"
      ]
    },
    {
      "cell_type": "code",
      "execution_count": 3,
      "metadata": {
        "colab": {
          "base_uri": "https://localhost:8080/"
        },
        "id": "KHUPCJXrXC28",
        "outputId": "a8c6ce4e-a39b-4380-81de-02bae5bf3309"
      },
      "outputs": [],
      "source": [
        "datos=sopa.find_all('p',class_=\"flex items-center gap-[0.625rem] truncate font-montserrat text-sm font-bold tabular-nums text-emerald md:text-base\")\n",
        "#print(datos)"
      ]
    },
    {
      "cell_type": "code",
      "execution_count": 4,
      "metadata": {
        "colab": {
          "base_uri": "https://localhost:8080/"
        },
        "id": "iubs6Q3FXExW",
        "outputId": "a8fe7145-5ae1-49cb-bbe0-935e9e784ab2"
      },
      "outputs": [
        {
          "data": {
            "text/plain": [
              "['10,000,000',\n",
              " '1,850,000',\n",
              " '4,900,000',\n",
              " '3,800,000',\n",
              " '3,895,000',\n",
              " '2,395,000',\n",
              " '3,240,000',\n",
              " '1,000,000',\n",
              " '1,600,000',\n",
              " '3,600,000',\n",
              " '10,500,000',\n",
              " '5,400,000',\n",
              " '2,350,000',\n",
              " '7,595,000',\n",
              " '1,000,000',\n",
              " '3,907,209',\n",
              " '2,280,000',\n",
              " '4,195,000',\n",
              " '5,295,000',\n",
              " '3,545,000']"
            ]
          },
          "execution_count": 4,
          "metadata": {},
          "output_type": "execute_result"
        }
      ],
      "source": [
        "#Guardamos los precios en una lista\n",
        "precios=list()\n",
        "for x in datos:\n",
        "    #text nos devuleve el texto, split nos devuelve una lista con las palabras separadas y seleccionamos los precios que se encurentran en la cailla 2\n",
        "    precios.append(x.text.split('$')[1])\n",
        "precios"
      ]
    },
    {
      "cell_type": "code",
      "execution_count": 5,
      "metadata": {
        "colab": {
          "base_uri": "https://localhost:8080/"
        },
        "id": "xBrp3m89Yr_p",
        "outputId": "dbabdc6d-f6e7-499a-9afe-8fe809291d9d"
      },
      "outputs": [
        {
          "data": {
            "text/plain": [
              "[10000000,\n",
              " 1850000,\n",
              " 4900000,\n",
              " 3800000,\n",
              " 3895000,\n",
              " 2395000,\n",
              " 3240000,\n",
              " 1000000,\n",
              " 1600000,\n",
              " 3600000,\n",
              " 10500000,\n",
              " 5400000,\n",
              " 2350000,\n",
              " 7595000,\n",
              " 1000000,\n",
              " 3907209,\n",
              " 2280000,\n",
              " 4195000,\n",
              " 5295000,\n",
              " 3545000]"
            ]
          },
          "execution_count": 5,
          "metadata": {},
          "output_type": "execute_result"
        }
      ],
      "source": [
        "#Convertimos de string a int los precios\n",
        "for x in range(len(precios)):\n",
        "  precios[x]= precios[x].replace(',', '')\n",
        "  precios[x] = int(precios[x])\n",
        "precios"
      ]
    },
    {
      "cell_type": "code",
      "execution_count": 6,
      "metadata": {
        "colab": {
          "base_uri": "https://localhost:8080/"
        },
        "id": "kTilBMQ0YvXQ",
        "outputId": "62bcf043-e3ae-455f-93d3-24d85d757c1b"
      },
      "outputs": [],
      "source": [
        "#Obtenemos el html de los tamaños y otras características\n",
        "datos=sopa.find_all ('span', class_=\"ml-2 truncate font-montserrat text-xs font-bold tabular-nums text-black\")\n",
        "for d in datos:\n",
        "  pass\n",
        "  #print(d)"
      ]
    },
    {
      "cell_type": "code",
      "execution_count": 7,
      "metadata": {
        "colab": {
          "base_uri": "https://localhost:8080/"
        },
        "id": "OK1NHccWZYdL",
        "outputId": "7d430270-8e8d-440d-9df4-494fca9819bf"
      },
      "outputs": [],
      "source": [
        "#creamos un ciclo para guardar los datos\n",
        "tamaños, recamaras, baños, garage = [], [], [], []\n",
        "i=-1\n",
        "for d in datos:\n",
        "  i+=1\n",
        "  if(i==0):\n",
        "    tamaños.append(int(d.text.split()[0]))\n",
        "  elif(i==1):\n",
        "    recamaras.append(int(d.text))\n",
        "  elif(i==2):\n",
        "    baños.append(int(d.text))\n",
        "  elif(i==3):\n",
        "    garage.append(int(d.text))\n",
        "  else:\n",
        "    i=-1"
      ]
    },
    {
      "cell_type": "code",
      "execution_count": 8,
      "metadata": {
        "colab": {
          "base_uri": "https://localhost:8080/"
        },
        "id": "tmD-ghDKZx1I",
        "outputId": "e30af3d5-a78a-4685-f05e-df14f7dd8409"
      },
      "outputs": [
        {
          "name": "stdout",
          "output_type": "stream",
          "text": [
            "tamaños --->  [655, 96, 335, 220, 82, 69, 127, 44, 59, 83, 660, 243, 82, 280, 49, 114, 80, 119, 129, 82]\n",
            "recamaras --->  [3, 2, 2, 3, 2, 1, 3, 2, 2, 3, 3, 2, 2, 4, 1, 1, 3, 3, 3, 2]\n",
            "baños --->  [4, 1, 3, 3, 2, 1, 3, 1, 2, 2, 2, 3, 2, 4, 1, 1, 1, 2, 2, 2]\n",
            "garage --->  [2, 1, 5, 1, 2, 2, 1, 0, 1, 1, 2, 2, 2, 2, 0, 1, 2, 2, 2, 2]\n"
          ]
        }
      ],
      "source": [
        "print('tamaños ---> ', tamaños)\n",
        "print('recamaras ---> ', recamaras)\n",
        "print('baños ---> ', baños)\n",
        "print('garage ---> ', garage)"
      ]
    },
    {
      "cell_type": "code",
      "execution_count": 9,
      "metadata": {
        "colab": {
          "base_uri": "https://localhost:8080/"
        },
        "id": "tmIoFlmucY-N",
        "outputId": "74fff12b-322b-45e8-f780-7ec845107a9f"
      },
      "outputs": [
        {
          "name": "stdout",
          "output_type": "stream",
          "text": [
            "20\n",
            "20\n",
            "20\n",
            "20\n",
            "20\n"
          ]
        }
      ],
      "source": [
        "#comprobamos que no falte o sobre ningun dato\n",
        "print(len(precios))\n",
        "print(len(tamaños))\n",
        "print(len(baños))\n",
        "print(len(recamaras))\n",
        "print(len(garage))"
      ]
    },
    {
      "cell_type": "code",
      "execution_count": 10,
      "metadata": {
        "colab": {
          "base_uri": "https://localhost:8080/"
        },
        "id": "64J0g47sc2Hm",
        "outputId": "eae67bf2-1c0e-4233-e158-5590d7062e00"
      },
      "outputs": [
        {
          "name": "stdout",
          "output_type": "stream",
          "text": [
            "[[1.         0.65479785]\n",
            " [0.65479785 1.        ]]\n",
            "[[1.         0.91913373]\n",
            " [0.91913373 1.        ]]\n",
            "[[1.         0.53785066]\n",
            " [0.53785066 1.        ]]\n",
            "[[1.         0.41167362]\n",
            " [0.41167362 1.        ]]\n"
          ]
        }
      ],
      "source": [
        "#Sacamos correlación entre baños, tamaño, recamaras, garage y precio\n",
        "ByP=np.corrcoef(baños, precios)\n",
        "TyP=np.corrcoef(tamaños, precios)\n",
        "RyP=np.corrcoef(recamaras, precios)\n",
        "GyP=np.corrcoef(garage, precios)\n",
        "print(ByP)\n",
        "print(TyP)\n",
        "print(RyP)\n",
        "print(GyP)"
      ]
    },
    {
      "cell_type": "code",
      "execution_count": 11,
      "metadata": {
        "colab": {
          "base_uri": "https://localhost:8080/"
        },
        "id": "uysDGdFqdFdv",
        "outputId": "e6585574-397c-471c-d25b-ff90c1dfd45f"
      },
      "outputs": [
        {
          "name": "stdout",
          "output_type": "stream",
          "text": [
            "13388.000618820959 13388.00061882096\n",
            "2380976.9294544104 1702165.1383646987\n"
          ]
        }
      ],
      "source": [
        "#Vemos que la correlacion entre tamaño y precio es mayor, así que sacamos la correlación lineal\n",
        "\n",
        "sx=0\n",
        "sy=0\n",
        "sx2=0\n",
        "sxy=0\n",
        "n=len(precios)\n",
        "\n",
        "for i in range(n):\n",
        "  sx+=tamaños[i]\n",
        "  sy+=precios[i]\n",
        "  sx2+=tamaños[i]**2\n",
        "  sxy+=tamaños[i]*precios[i]\n",
        "\n",
        "m=(sxy - ((sx*sy)/n)) / (sx2 - ((sx**2)/n))\n",
        "a=((n*sxy)-(sx*sy)) / ((n*sx2) - (sx**2))\n",
        "print(m, a)\n",
        "\n",
        "bclase=precios[15]-(m*tamaños[15])\n",
        "bgoogle=(sy-(a*sx))/n\n",
        "print(bclase, bgoogle)"
      ]
    },
    {
      "cell_type": "code",
      "execution_count": 12,
      "metadata": {
        "colab": {
          "base_uri": "https://localhost:8080/"
        },
        "id": "qWxRyCjgebTC",
        "outputId": "915def89-d0ad-417f-e95f-18aec2bcabf6"
      },
      "outputs": [
        {
          "name": "stdout",
          "output_type": "stream",
          "text": [
            "[11150117.334782138, 3666224.9888612228, 6865957.136759432, 5326337.0655950215, 3478792.980197729, 3304748.9721530564, 4081253.008044672, 2970048.9566825326, 3170868.9659648472, 3492180.98081655, 11217057.337876244, 5634261.079827903, 3478792.980197729, 6129617.102724278, 3036988.9597766376, 3907209.0, 3452016.978960087, 3974149.0030941046, 4108029.009282314, 3478792.980197729]\n",
            "[10471305.543692429, 2987413.197771511, 6187145.34566972, 4647525.27450531, 2799981.189108018, 2625937.181063345, 3402441.2169549605, 2291237.165592821, 2492057.1748751355, 2813369.1897268384, 10538245.546786534, 4955449.288738192, 2799981.189108018, 5450805.311634568, 2358177.168686926, 3228397.2089102883, 2773205.187870376, 3295337.2120043933, 3429217.2181926025, 2799981.189108018]\n"
          ]
        }
      ],
      "source": [
        "#Creamos la regresión lineal\n",
        "yclase=[]\n",
        "ygoogle=[]\n",
        "for i in range(n):\n",
        "  yclase.append(m*tamaños[i]+bclase)\n",
        "  ygoogle.append(a*tamaños[i]+bgoogle)\n",
        "\n",
        "print(yclase)\n",
        "print(ygoogle)"
      ]
    },
    {
      "cell_type": "code",
      "execution_count": 14,
      "metadata": {
        "colab": {
          "base_uri": "https://localhost:8080/"
        },
        "id": "S-aDOJ_5gydB",
        "outputId": "aba5cc9b-b50a-4b8d-afe7-82564feabbd0"
      },
      "outputs": [
        {
          "data": {
            "text/plain": [
              "[<matplotlib.lines.Line2D at 0x219707523b0>]"
            ]
          },
          "execution_count": 14,
          "metadata": {},
          "output_type": "execute_result"
        },
        {
          "data": {
            "image/png": "[encoded data removed]",
            "text/plain": [
              "<Figure size 640x480 with 1 Axes>"
            ]
          },
          "metadata": {},
          "output_type": "display_data"
        }
      ],
      "source": [
        "#graficamos \n",
        "plt.scatter(tamaños, precios)\n",
        "plt.plot(tamaños, yclase, color='black')\n",
        "plt.plot(tamaños, ygoogle, color='red')"
      ]
    }
  ],
  "metadata": {
    "colab": {
      "provenance": []
    },
    "kernelspec": {
      "display_name": "Python 3",
      "name": "python3"
    },
    "language_info": {
      "codemirror_mode": {
        "name": "ipython",
        "version": 3
      },
      "file_extension": ".py",
      "mimetype": "text/x-python",
      "name": "python",
      "nbconvert_exporter": "python",
      "pygments_lexer": "ipython3",
      "version": "3.10.6"
    }
  },
  "nbformat": 4,
  "nbformat_minor": 0
}
